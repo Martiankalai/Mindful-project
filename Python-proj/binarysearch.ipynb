{
 "cells": [
  {
   "cell_type": "code",
   "execution_count": 4,
   "metadata": {},
   "outputs": [
    {
     "name": "stdout",
     "output_type": "stream",
     "text": [
      "-1\n"
     ]
    }
   ],
   "source": [
    "#binary search using recursion\n",
    "arr=[10,34,21,54,70]\n",
    "x=72\n",
    "low=0\n",
    "high=len(arr)-1\n",
    "def binarysearch(arr,x,low,high):\n",
    "    if high>=low:\n",
    "        mid=low+(high-low)//2\n",
    "        if arr[mid]==x:\n",
    "            return mid\n",
    "        elif arr[mid]>x:\n",
    "            return binarysearch(arr,x,low,mid-1)\n",
    "        elif arr[mid]<x:\n",
    "            return binarysearch(arr,x,mid+1,high)\n",
    "    else:\n",
    "        return -1\n",
    "print(binarysearch(arr,x,low,high))\n"
   ]
  }
 ],
 "metadata": {
  "kernelspec": {
   "display_name": "Python 3",
   "language": "python",
   "name": "python3"
  },
  "language_info": {
   "codemirror_mode": {
    "name": "ipython",
    "version": 3
   },
   "file_extension": ".py",
   "mimetype": "text/x-python",
   "name": "python",
   "nbconvert_exporter": "python",
   "pygments_lexer": "ipython3",
   "version": "3.12.2"
  }
 },
 "nbformat": 4,
 "nbformat_minor": 2
}
