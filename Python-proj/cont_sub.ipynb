{
 "cells": [
  {
   "cell_type": "code",
   "execution_count": 14,
   "metadata": {},
   "outputs": [
    {
     "name": "stdout",
     "output_type": "stream",
     "text": [
      "False\n"
     ]
    }
   ],
   "source": [
    "#leetcode problem\n",
    "def max_sub(arr, k):\n",
    "    n = len(arr)\n",
    "    for i in range(n):\n",
    "        temp_sum = arr[i]\n",
    "        if temp_sum % k == 0:\n",
    "            return True\n",
    "        for j in range(i + 1, n):\n",
    "            temp_sum += arr[j]\n",
    "            if temp_sum % k == 0 and j - i >= 1:\n",
    "                return True  # Found a subarray with sum multiple of k and length at least 2\n",
    "    return False\n",
    "\n",
    "# Example usage:\n",
    "arr = [23,2,6,4,7]\n",
    "k = 13\n",
    "print(max_sub(arr, k))  # Output: True\n"
   ]
  }
 ],
 "metadata": {
  "kernelspec": {
   "display_name": "Python 3",
   "language": "python",
   "name": "python3"
  },
  "language_info": {
   "codemirror_mode": {
    "name": "ipython",
    "version": 3
   },
   "file_extension": ".py",
   "mimetype": "text/x-python",
   "name": "python",
   "nbconvert_exporter": "python",
   "pygments_lexer": "ipython3",
   "version": "3.12.2"
  }
 },
 "nbformat": 4,
 "nbformat_minor": 2
}
