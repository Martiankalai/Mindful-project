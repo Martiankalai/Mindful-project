{
 "cells": [
  {
   "cell_type": "markdown",
   "metadata": {},
   "source": [
    "# <h1 style=\"font-family: Trebuchet MS; padding: 12px; font-size: 48px; color: #19AADE; text-align: center; line-height: 1.25;\"><b>🐍<span style=\"color: #000000\"> Python Basics 👋 </span></b></h1>\n",
    "<hr>"
   ]
  },
  {
   "cell_type": "markdown",
   "metadata": {},
   "source": [
    "**`Why to learn Python?`**"
   ]
  },
  {
   "cell_type": "code",
   "execution_count": 1,
   "metadata": {},
   "outputs": [
    {
     "data": {
      "text/html": [
       "\n",
       "        <iframe\n",
       "            width=\"600\"\n",
       "            height=\"200\"\n",
       "            src=\"https://www.youtube.com/embed/https://www.youtube.com/watch?v=YXSu2X9cAtw&list=PLREhfdPXr-ejNS4IOyY8bwDEH6JCLAsDJ&index=1\"\n",
       "            frameborder=\"0\"\n",
       "            allowfullscreen\n",
       "            \n",
       "        ></iframe>\n",
       "        "
      ],
      "text/plain": [
       "<IPython.lib.display.YouTubeVideo at 0x22625ca13c0>"
      ]
     },
     "execution_count": 1,
     "metadata": {},
     "output_type": "execute_result"
    }
   ],
   "source": [
    "from IPython.display import YouTubeVideo\n",
    "YouTubeVideo('https://www.youtube.com/watch?v=YXSu2X9cAtw&list=PLREhfdPXr-ejNS4IOyY8bwDEH6JCLAsDJ&index=1',width=600,height=200)"
   ]
  },
  {
   "cell_type": "markdown",
   "metadata": {},
   "source": [
    "<center>\n",
    "    <img src=\"https://impatientprogrammer.net/wp-content/uploads/2017/12/BlogBanner_LLP_Beginners-1035x270.jpg\" alt=\"Py Basics.png\" width=\"0%\">\n",
    "</center>\n",
    "\n",
    "\n",
    "<div style=\"font-family: Segoe UI; line-height: 3; color: #000000; text-align: justify\">\n",
    "    👉 <mark>Python is emerging as the popular language used more in data science applications.</mark> <br>\n",
    "    👉 Take the case of the tech giant Google that has created the deep learning framework called tensorflow – Python is the primary language used for creating this framework. Its footprint has continued to increase in the environment promoted by Netflix.<br> \n",
    "    👉 <mark><b>Production engineers at Facebook and Khan Academy have for long been using it as a prominent language in their environment.</b><mark><br>\n",
    "    👉 <mark>Data pre-processing and feature engineering will be performed to prepare the dataset</mark> before it is used by the machine learning model.\n",
    "</div>\n",
    "\n",
    "`Python became the most popular language in the data science world.`\n",
    "\n",
    "`So what are you waiting for? Lets start learning python basic as your first assignment.`\n",
    "\n",
    "<br>"
   ]
  },
  {
   "cell_type": "markdown",
   "metadata": {},
   "source": [
    "**`Full Reference Video`**"
   ]
  },
  {
   "cell_type": "code",
   "execution_count": 2,
   "metadata": {},
   "outputs": [
    {
     "data": {
      "text/html": [
       "\n",
       "        <iframe\n",
       "            width=\"600\"\n",
       "            height=\"200\"\n",
       "            src=\"https://www.youtube.com/embed/https://youtu.be/8DvywoWv6fI\"\n",
       "            frameborder=\"0\"\n",
       "            allowfullscreen\n",
       "            \n",
       "        ></iframe>\n",
       "        "
      ],
      "text/plain": [
       "<IPython.lib.display.YouTubeVideo at 0x22625ca0040>"
      ]
     },
     "execution_count": 2,
     "metadata": {},
     "output_type": "execute_result"
    }
   ],
   "source": [
    "YouTubeVideo('https://youtu.be/8DvywoWv6fI',width=600,height=200)"
   ]
  },
  {
   "cell_type": "markdown",
   "metadata": {},
   "source": [
    "## <div style=\"font-family: Trebuchet MS; background-color: #19AADE; color: #FFFFFF; padding: 5px; line-height: 1.5;\">0. | Why Python? 🤔</div>\n",
    "\n",
    "<center>\n",
    "    <img src=\"https://www.tutorialandexample.com/wp-content/uploads/2019/09/why-python.jpg\" alt=\"Py Basics.png\" width=\"30%\">\n",
    "</center>\n",
    "\n",
    "<div style=\"font-family: Segoe UI; line-height: 3; color: #000000; text-align: justify\">\n",
    "    👉 <mark><b>1. Beginner-Friendly:</b></mark> Python has a clean and intuitive syntax that is easy for beginners to learn and understand, making it an excellent choice for those new to programming and data science. <br>\n",
    "    👉 <mark><b>2. Rich Ecosystem:</b></mark> Python has a vast ecosystem of libraries and tools specifically designed for data science, such as NumPy, Pandas, Matplotlib, and Scikit-learn. These libraries provide powerful functionality for data manipulation, analysis, visualization, and machine learning. <br>\n",
    "    👉 <mark><b>3. Open Source and Community-Driven:</b></mark> Python is an open-source language, which means it is freely available for anyone to use and contribute to. It has a vibrant and active community of developers who constantly create new libraries, share knowledge, and provide support through forums, tutorials, and online resources. <br>\n",
    "    👉 <mark><b>4. Interoperability:</b></mark> Python seamlessly integrates with other programming languages, enabling data scientists to leverage existing code and tools. It can easily interact with databases, web APIs, and various file formats, making it suitable for a wide range of data sources and scenarios.<br> \n",
    "    👉 <mark><b>5. Scalability:</b></mark> Python's scalability allows you to start small and gradually scale up your projects as needed. You can prototype and experiment quickly, and as your data science projects grow, Python provides the flexibility to handle larger datasets and complex analyses.<br>\n",
    "    👉 <mark><b>6. Industry Adoption:</b></mark> Python has gained significant traction in the data science industry and is widely used by major companies and organizations. Many popular data science frameworks, platforms, and job opportunities are centered around Python, ensuring a wealth of career prospects for professionals.<br>\n",
    "    👉 <mark><b>7. Versatility:</b></mark> Python's versatility extends beyond data science. It can be used for web development, automation, scripting, and more, allowing data scientists to leverage their Python skills in multiple domains and enhance their overall programming capabilities.<br>\n",
    "    👉 <mark><b>8. Documentation and Support:</b></mark> Python has extensive documentation, making it easy to find answers to questions and learn new concepts. Additionally, the large user community provides ample support, tutorials, and resources, making it easier for both freshers and professionals to grasp and apply Python in data science.<br>\n",
    "\n",
    "</div>"
   ]
  },
  {
   "cell_type": "markdown",
   "metadata": {},
   "source": [
    "**`Refrence Video`**"
   ]
  },
  {
   "cell_type": "code",
   "execution_count": 3,
   "metadata": {},
   "outputs": [
    {
     "data": {
      "text/html": [
       "\n",
       "        <iframe\n",
       "            width=\"600\"\n",
       "            height=\"200\"\n",
       "            src=\"https://www.youtube.com/embed/https://www.youtube.com/watch?v=YXSu2X9cAtw&list=PLREhfdPXr-ejNS4IOyY8bwDEH6JCLAsDJ&index=2\"\n",
       "            frameborder=\"0\"\n",
       "            allowfullscreen\n",
       "            \n",
       "        ></iframe>\n",
       "        "
      ],
      "text/plain": [
       "<IPython.lib.display.YouTubeVideo at 0x22625ca0280>"
      ]
     },
     "execution_count": 3,
     "metadata": {},
     "output_type": "execute_result"
    }
   ],
   "source": [
    "YouTubeVideo('https://www.youtube.com/watch?v=YXSu2X9cAtw&list=PLREhfdPXr-ejNS4IOyY8bwDEH6JCLAsDJ&index=2',width=600,height=200)"
   ]
  },
  {
   "cell_type": "markdown",
   "metadata": {},
   "source": [
    "## <div style=\"font-family: Trebuchet MS; background-color: #176BA0; color: #FFFFFF; padding: 10px; line-height: 1.5;\">1. | Variable Declaration 📚</div>\n",
    "<div style=\"font-family: Segoe UI; line-height: 2; color: #000000; text-align: justify\">\n",
    "    👉 <b>Explore Variable declaration and Type of variables.\n",
    "\n",
    "</div>\n",
    "\n",
    "**`Reference Video`**"
   ]
  },
  {
   "cell_type": "code",
   "execution_count": 4,
   "metadata": {},
   "outputs": [
    {
     "data": {
      "text/html": [
       "\n",
       "        <iframe\n",
       "            width=\"600\"\n",
       "            height=\"200\"\n",
       "            src=\"https://www.youtube.com/embed/https://youtu.be/RVYY7zMiPbg\"\n",
       "            frameborder=\"0\"\n",
       "            allowfullscreen\n",
       "            \n",
       "        ></iframe>\n",
       "        "
      ],
      "text/plain": [
       "<IPython.lib.display.YouTubeVideo at 0x22625ca16f0>"
      ]
     },
     "execution_count": 4,
     "metadata": {},
     "output_type": "execute_result"
    }
   ],
   "source": [
    "## Declate Variable \n",
    "YouTubeVideo('https://youtu.be/RVYY7zMiPbg',width=600,height=200)"
   ]
  },
  {
   "cell_type": "markdown",
   "metadata": {},
   "source": [
    "<pre> \n",
    "Try to follow these instuctions:\n",
    "    1. Get two integers inputs: num1 & num2.\n",
    "    2. Add input values using the \"+\" operator & save in variable \"sum_\".\n",
    "    3. Print the sum.\n",
    "</pre>"
   ]
  },
  {
   "cell_type": "code",
   "execution_count": 2,
   "metadata": {},
   "outputs": [
    {
     "name": "stdout",
     "output_type": "stream",
     "text": [
      "7\n"
     ]
    }
   ],
   "source": [
    "# Assign any number to bellow variables, num1 = 3, num2 = 4\n",
    "num1 = 3\n",
    "num2 = 4\n",
    "\n",
    "# Add these variables using \"+\" sign and put all in variable sum_, sum_ = num1 + num2 \n",
    "sum_ = num1 + num2\n",
    "\n",
    "# Print sum_ variable, use print()\n",
    "print(sum_)"
   ]
  },
  {
   "cell_type": "code",
   "execution_count": 5,
   "metadata": {},
   "outputs": [],
   "source": [
    "# Declare two variables, a = 108, name = 'ManralAi'\n",
    "a = 108 # your code here\n",
    "name = 'ManralAi'# your code here"
   ]
  },
  {
   "cell_type": "code",
   "execution_count": 4,
   "metadata": {},
   "outputs": [
    {
     "ename": "NameError",
     "evalue": "name 'a' is not defined",
     "output_type": "error",
     "traceback": [
      "\u001b[1;31m---------------------------------------------------------------------------\u001b[0m",
      "\u001b[1;31mNameError\u001b[0m                                 Traceback (most recent call last)",
      "Cell \u001b[1;32mIn[4], line 2\u001b[0m\n\u001b[0;32m      1\u001b[0m \u001b[38;5;66;03m# print type of \"a\"\u001b[39;00m\n\u001b[1;32m----> 2\u001b[0m \u001b[38;5;28mprint\u001b[39m(\u001b[38;5;28mtype\u001b[39m(\u001b[43ma\u001b[49m))\n",
      "\u001b[1;31mNameError\u001b[0m: name 'a' is not defined"
     ]
    }
   ],
   "source": [
    "# print type of \"a\"\n",
    "print(type(a))"
   ]
  },
  {
   "cell_type": "code",
   "execution_count": 3,
   "metadata": {},
   "outputs": [
    {
     "ename": "NameError",
     "evalue": "name 'name' is not defined",
     "output_type": "error",
     "traceback": [
      "\u001b[1;31m---------------------------------------------------------------------------\u001b[0m",
      "\u001b[1;31mNameError\u001b[0m                                 Traceback (most recent call last)",
      "Cell \u001b[1;32mIn[3], line 2\u001b[0m\n\u001b[0;32m      1\u001b[0m \u001b[38;5;66;03m# print type of name\"\u001b[39;00m\n\u001b[1;32m----> 2\u001b[0m \u001b[38;5;28mprint\u001b[39m(\u001b[38;5;28mtype\u001b[39m(\u001b[43mname\u001b[49m))\n",
      "\u001b[1;31mNameError\u001b[0m: name 'name' is not defined"
     ]
    }
   ],
   "source": [
    "# print type of name\"\n",
    "print(type(name))"
   ]
  },
  {
   "cell_type": "markdown",
   "metadata": {},
   "source": [
    "**`Reference Video`**"
   ]
  },
  {
   "cell_type": "code",
   "execution_count": 8,
   "metadata": {},
   "outputs": [
    {
     "data": {
      "text/html": [
       "\n",
       "        <iframe\n",
       "            width=\"600\"\n",
       "            height=\"200\"\n",
       "            src=\"https://www.youtube.com/embed/https://www.youtube.com/watch?v=YXSu2X9cAtw&list=PLREhfdPXr-ejNS4IOyY8bwDEH6JCLAsDJ&index=3\"\n",
       "            frameborder=\"0\"\n",
       "            allowfullscreen\n",
       "            \n",
       "        ></iframe>\n",
       "        "
      ],
      "text/plain": [
       "<IPython.lib.display.YouTubeVideo at 0x22625ca2110>"
      ]
     },
     "execution_count": 8,
     "metadata": {},
     "output_type": "execute_result"
    }
   ],
   "source": [
    "YouTubeVideo('https://www.youtube.com/watch?v=YXSu2X9cAtw&list=PLREhfdPXr-ejNS4IOyY8bwDEH6JCLAsDJ&index=3',width=600,height=200)"
   ]
  },
  {
   "cell_type": "code",
   "execution_count": 5,
   "metadata": {},
   "outputs": [
    {
     "name": "stdout",
     "output_type": "stream",
     "text": [
      "<class 'str'>\n"
     ]
    }
   ],
   "source": [
    "# print type of name\n",
    "print(type(name))"
   ]
  },
  {
   "cell_type": "code",
   "execution_count": 7,
   "metadata": {},
   "outputs": [],
   "source": [
    "# swap the values of a and name variables\n",
    "## hint, if a = 3 and b = \"AiCareerMaster\" then u can swap values like this: a,b = b,a\n",
    "a,name = name,a"
   ]
  },
  {
   "cell_type": "code",
   "execution_count": 7,
   "metadata": {},
   "outputs": [
    {
     "name": "stdout",
     "output_type": "stream",
     "text": [
      "a = 108 , name = ManralAi\n"
     ]
    }
   ],
   "source": [
    "# run this to confirm \n",
    "print('a = ' + str(a) + ' , name = ' + str(name))"
   ]
  },
  {
   "cell_type": "markdown",
   "metadata": {},
   "source": [
    "<font color='red'>\n",
    "\n",
    "<b>\n",
    "Cool! We have covered\n",
    "\n",
    "* Variable Declaration \n",
    "* Getting types of variables\n",
    "* Variable swaping\n",
    "\n",
    "This is easy, What you say????"
   ]
  },
  {
   "cell_type": "markdown",
   "metadata": {},
   "source": [
    "### <div style=\"font-family: Trebuchet MS; background-color: #1AC9E6; color: #FFFFFF; padding: 6px; line-height: 1.5;\">1.1 | Keywords 📚</div>\n",
    "\n",
    "<div style=\"font-family: Segoe UI; line-height: 2; color: #000000; text-align: justify\">\n",
    "   <b>Let's explore more on Keywords.<br>\n",
    "    👉 <b>Keywords are predefined, reserved words that have special meanings to the compiler.<br>\n",
    "    👉 <b>We cannot use a keyword as a variable name, function name, or any other identifier. They are used to define the syntax and structure of the Python language.<br>\n",
    "    👉 <b>All the keywords except \"True, False and None\" are in lowercase and they must be written as they are.<br></b>\n",
    "\n",
    "</div>\n",
    "    \n",
    "**`List of all the keywords is given below`**"
   ]
  },
  {
   "cell_type": "markdown",
   "metadata": {},
   "source": [
    "| Python Keyword | Description |\n",
    "|---|---|\n",
    "| False | Represents the Boolean value false. |\n",
    "| None | Represents the absence of a value. |\n",
    "| True | Represents the Boolean value true. |\n",
    "| and | Logical AND operator. Evaluates to true if both operands are true. |\n",
    "| as | Used for variable aliasing and context managers. |\n",
    "| assert | Used for debugging and enforcing conditions. |\n",
    "| async | Indicates an asynchronous function. |\n",
    "| await | Used to suspend execution of an asynchronous function. |\n",
    "| break | Terminates the current loop iteration. |\n",
    "| class | Defines a user-defined class. |\n",
    "| continue | Skips the remaining statements in the current loop iteration and proceeds to the next iteration. |\n",
    "| def | Defines a function. |\n",
    "| del | Deletes variables or objects. |\n",
    "| elif | Conditional branching for else-if statements. |\n",
    "| else | Conditional branching for else statements. |\n",
    "| except | Handles exceptions in try-except blocks. |\n",
    "| finally | Block of code executed after try-except blocks, regardless of whether an exception is raised. |\n",
    "| for | Defines a loop that iterates over a sequence. |\n",
    "| from | Imports modules or names from modules. |\n",
    "| global | Declares variables as global variables within a function. |\n",
    "| if | Conditional branching for if statements. |\n",
    "| import | Imports modules. |\n",
    "| in | Membership operator. Checks if a value is present in a sequence or dictionary. |\n",
    "| is | Identity operator. Checks if two objects are the same object in memory. |\n",
    "| lambda | Defines an anonymous function. |\n",
    "| nonlocal | Declares variables as nonlocal variables within a nested function. |\n",
    "| not | Logical NOT operator. Negates a Boolean expression. |\n",
    "| or | Logical OR operator. Evaluates to true if at least one operand is true. |\n",
    "| pass | Empty statement. Used to avoid syntax errors. |\n",
    "| raise | Raises an exception. |\n",
    "| return | Exits a function and optionally returns a value. |\n",
    "| try | Block of code where exceptions are potentially raised. |\n",
    "| while | Defines a loop that iterates while a condition is true. |\n",
    "| with | Establishes a context manager for resource management. |\n",
    "| yield | Pauses the execution of a generator function and returns a value. |\n"
   ]
  },
  {
   "cell_type": "markdown",
   "metadata": {},
   "source": [
    "### <div style=\"font-family: Trebuchet MS; background-color: #1AC9E6; color: #FFFFFF; padding: 6px; line-height: 1.5;\">1.2 | Identifiers 📚</div>\n",
    "\n",
    "<div style=\"font-family: Segoe UI; line-height: 2; color: #000000; text-align: justify\">\n",
    "   <b>Let's explore more on Identifiers.<br>\n",
    "    👉 <b>Identifiers are the name given to Variables, Classes, Methods etc<br></b>\n",
    "\n",
    "</div>"
   ]
  },
  {
   "cell_type": "code",
   "execution_count": 8,
   "metadata": {},
   "outputs": [
    {
     "name": "stdout",
     "output_type": "stream",
     "text": [
      "Ai Career Master\n"
     ]
    }
   ],
   "source": [
    "## make a variable (an identifier) named as \"Manralai\", which will holds the value as 'Ai Career Master'.\n",
    "Manralai = 'Ai Career Master'\n",
    "\n",
    "\n",
    "##print variable Manralai, use print for it \n",
    "print(Manralai)"
   ]
  },
  {
   "cell_type": "markdown",
   "metadata": {},
   "source": [
    "<font color='red'>\n",
    "\n",
    "<b>\n",
    "We cannot use keywords as variable names as they are reserved names that are built-in to Python"
   ]
  },
  {
   "cell_type": "code",
   "execution_count": 13,
   "metadata": {},
   "outputs": [
    {
     "name": "stdout",
     "output_type": "stream",
     "text": [
      "Ai Career Master\n"
     ]
    }
   ],
   "source": [
    "## use keyword \"lambda\" as a variable name and give it value of 'Ai Career Master'.\n",
    "lambdaa=\"Ai Career Master\"\n",
    "\n",
    "##print variable name, use print for it\n",
    "print(lambdaa)"
   ]
  },
  {
   "cell_type": "markdown",
   "metadata": {},
   "source": [
    "<font color='red'>\n",
    "Above code is wrong because we have used lambda as a variable name"
   ]
  },
  {
   "cell_type": "markdown",
   "metadata": {},
   "source": [
    "### <div style=\"font-family: Trebuchet MS; background-color: #1AC9E6; color: #FFFFFF; padding: 6px; line-height: 1.5;\"><center>📚 Rules for Naming an Identifier </center></div>\n",
    "\n",
    "* Whitespaces are not allowed.\n",
    "* Identifiers are case-sensitive.\n",
    "* Identifiers cannot be a keyword.\n",
    "* We cannot use special symbols like !, @, #, $, and so on.\n",
    "* It's a convention to start an identifier with a letter rather _.\n",
    "* It can have a sequence of letters and digits. However, it must begin with a letter or _. The first letter of an identifier cannot be a digit."
   ]
  },
  {
   "cell_type": "markdown",
   "metadata": {},
   "source": [
    "### <div style=\"font-family: Trebuchet MS; background-color: #1AC9E6; color: #FFFFFF; padding: 6px; line-height: 1.5;\"><center>📚 Some Valid and Invalid Python Identifiers</center></div>\n",
    "\n",
    "| Identifier | Valid or Invalid | Reason |\n",
    "|---|---|---|\n",
    "| score | Valid | Regular alphanumeric identifier |\n",
    "| score@core | Invalid | Contains an invalid character (@) |\n",
    "| return_value | Valid | Regular alphanumeric identifier with underscores (_) |\n",
    "| returnhighest_score | Valid | Regular alphanumeric identifier with underscores (_) |\n",
    "| highest score | Invalid | Spaces are not allowed in identifiers |\n",
    "| name11 | Valid | Regular alphanumeric identifier with numbers |\n",
    "| name | Valid | Regular alphanumeric identifier |\n",
    "| convert_to_string | Valid | Regular alphanumeric identifier with underscores (_) |\n",
    "| convert to_string | Invalid | Spaces are not allowed in identifiers |\n"
   ]
  },
  {
   "cell_type": "markdown",
   "metadata": {},
   "source": [
    "### <div style=\"font-family: Trebuchet MS; background-color: #1AC9E6; color: #FFFFFF; padding: 6px; line-height: 1.5;\"><center>📚 Points to Remember</center></div>\n",
    "\n",
    "- Python is a case-sensitive language. This means, Variable and variable are not the same.\n",
    "\n",
    "- Always give the identifiers a name that makes sense. \n",
    "    - While n = 10 is a valid name, writing number = 10 would make more sense, and it would be easier to figure out what it represents when you look at your code after a long gap.\n",
    "- Multiple words can be separated using an underscore, like manralai_ai_career_master."
   ]
  },
  {
   "cell_type": "markdown",
   "metadata": {},
   "source": [
    "## <div style=\"font-family: Trebuchet MS; background-color: #176BA0; color: #FFFFFF; padding: 10px; line-height: 1.5;\">2. | Arithmetic Operations 👓</div>\n",
    "<div style=\"font-family: Segoe UI; line-height: 2; color: #000000; text-align: justify\">\n",
    "    👉 <b>Focus on Operator, Operation and Example\n",
    "</div>\n"
   ]
  },
  {
   "cell_type": "markdown",
   "metadata": {},
   "source": [
    "**`Reference Video`**"
   ]
  },
  {
   "cell_type": "code",
   "execution_count": 14,
   "metadata": {},
   "outputs": [
    {
     "data": {
      "text/html": [
       "\n",
       "        <iframe\n",
       "            width=\"600\"\n",
       "            height=\"200\"\n",
       "            src=\"https://www.youtube.com/embed/https://www.youtube.com/watch?v=e_L0U502zg4&list=PLREhfdPXr-ejNS4IOyY8bwDEH6JCLAsDJ&index=14\"\n",
       "            frameborder=\"0\"\n",
       "            allowfullscreen\n",
       "            \n",
       "        ></iframe>\n",
       "        "
      ],
      "text/plain": [
       "<IPython.lib.display.YouTubeVideo at 0x22625ca0ac0>"
      ]
     },
     "execution_count": 14,
     "metadata": {},
     "output_type": "execute_result"
    }
   ],
   "source": [
    "YouTubeVideo('https://www.youtube.com/watch?v=e_L0U502zg4&list=PLREhfdPXr-ejNS4IOyY8bwDEH6JCLAsDJ&index=14',width=600,height=200)"
   ]
  },
  {
   "cell_type": "code",
   "execution_count": 15,
   "metadata": {},
   "outputs": [
    {
     "data": {
      "text/html": [
       "\n",
       "        <iframe\n",
       "            width=\"600\"\n",
       "            height=\"200\"\n",
       "            src=\"https://www.youtube.com/embed/https://www.youtube.com/watch?v=0-hzxfkpHy8\"\n",
       "            frameborder=\"0\"\n",
       "            allowfullscreen\n",
       "            \n",
       "        ></iframe>\n",
       "        "
      ],
      "text/plain": [
       "<IPython.lib.display.YouTubeVideo at 0x22625ca1450>"
      ]
     },
     "execution_count": 15,
     "metadata": {},
     "output_type": "execute_result"
    }
   ],
   "source": [
    "YouTubeVideo('https://www.youtube.com/watch?v=0-hzxfkpHy8',width=600,height=200)"
   ]
  },
  {
   "cell_type": "markdown",
   "metadata": {},
   "source": [
    "Hey novice! this will be easy for you until you know basic arithmetic symbols like **`+, -, /, *`** etc."
   ]
  },
  {
   "cell_type": "markdown",
   "metadata": {},
   "source": [
    "<div style=\"font-family: Segoe UI; line-height: 2; color: #000000; text-align: justify\">\n",
    "\n",
    "|Operator|\tOperation|\tExample |\n",
    "|--------|-----------|----------|\n",
    "|+|\tAddition|\t5 + 2 = 7|\n",
    "|-|\tSubtraction|\t4 - 2 = 2|\n",
    "|*|\tMultiplication|\t2 * 3 = 6|\n",
    "|/|\tDivision|\t4 / 2 = 2|\n",
    "|//|\tFloor Division|\t10 // 3 = 3\n",
    "|%|\tModulo|\t5 % 2 = 1|\n",
    "|**|\tPower|\t4 ** 2 = 16|\n",
    "\n",
    "</div>"
   ]
  },
  {
   "cell_type": "code",
   "execution_count": 11,
   "metadata": {},
   "outputs": [
    {
     "data": {
      "text/plain": [
       "4"
      ]
     },
     "execution_count": 11,
     "metadata": {},
     "output_type": "execute_result"
    }
   ],
   "source": [
    "2**2"
   ]
  },
  {
   "cell_type": "code",
   "execution_count": 14,
   "metadata": {},
   "outputs": [
    {
     "name": "stdout",
     "output_type": "stream",
     "text": [
      "manralai = 108, aicareermaster = 1008\n"
     ]
    }
   ],
   "source": [
    "# declare two variables, manralai = 108, aicareermaster = 1008\n",
    "\n",
    "manralai = 108\n",
    "aicareermaster = 1008\n",
    "\n",
    "#change variables name accordingly\n",
    "print(f'manralai = {manralai}, aicareermaster = {aicareermaster}')"
   ]
  },
  {
   "cell_type": "code",
   "execution_count": 18,
   "metadata": {},
   "outputs": [
    {
     "name": "stdout",
     "output_type": "stream",
     "text": [
      "1116\n"
     ]
    }
   ],
   "source": [
    "# use addition sign to \"+\" add above variable1 and variable2, print it using print() \n",
    "print(manralai + aicareermaster)"
   ]
  },
  {
   "cell_type": "code",
   "execution_count": 14,
   "metadata": {},
   "outputs": [
    {
     "name": "stdout",
     "output_type": "stream",
     "text": [
      "manralai + aicareermaster =  1116\n",
      "manralai - aicareermaster =  -900\n",
      "manralai * aicareermaster =  108864\n",
      "manralai / aicareermaster =  0.10714285714285714\n",
      "manralai % aicareermaster =  108\n",
      "manralai // aicareermaster =  0\n",
      "manralai ^ aicareermaster =  4910724055503754778403368590696136296790493729125470305440974097326797221559699271153208846248879416152538914821673536358058518521834956638858232728344444590056340822926834084832586572118552191277042357113106295270558442874891728903460088126136116438651008302786092635004348923964185733620622032830989694394738145076596616494195375067777368261341329030929068527260233831759853955742553015861777210956718180043002020428825816019961082642027659271905826180240605218494617948392187931902815786913884924178964359520525762688198557814533150365846431436357297612313789730056124216103873694262844073225423915440356215244440035414510913838969614756723156098308483877182234087296022709198405862068498614657833998759791012987588818937475920328495255427545012677521897844575282550883576554304017058724267548227145924615634610328402447644993881916233442710037372906376215000220578473154167365136828966551533781389067714646803394194995424540374950973773639422032905195705097424753209269168999571129116346593298904283763228587884552455457700492306327408336335216818317678315604811460882151608223617914454980318944586004791053115120207320569253908580030006043090867881855676123990017012633604982591761203770864226337466511594431223279040521849455093502548227677373230977656649954357205953228986826730237304243642478989599734657617009032276344501351637221428634945178471143079695169518390163779300216675879407765804409556486182599983569249482478912266957161717844091602403348016512503257118815950898803736746592457880109879882899205043424247321240296931380702456813802355479025509897528267828327919407116071213844825038980840299389289667534944411637182897168947491287925618417645228861831234837920844777962838141998838431746702358683795212462648180728800635174300861594580072531000607676533748252474474730411348206672620454476901297024122713989528893327832763105277513456418460772724253728355138943195786038341207249258700137569081059289677039583805421061800412987115307726498905442196816601042623252808224064719023640684948222145947697071088116734402496929848098816\n"
     ]
    }
   ],
   "source": [
    "# Calculate and print all the possible numerical operations on variables \"manralai, aicareermaster\" (There are total 7 operations)\n",
    "# You can use string formatting to get the exact output like ours.\n",
    "# hint: print(\"manralai + aicareermaster = \", manralai + aicareermaster)"
   ]
  },
  {
   "cell_type": "markdown",
   "metadata": {},
   "source": [
    "## <div style=\"font-family: Trebuchet MS; background-color: #176BA0; color: #FFFFFF; padding: 10px; line-height: 1.5;\">3. | Math Functions 🔠</div>\n",
    "<div style=\"font-family: Segoe UI; line-height: 2; color: #000000; text-align: justify\">\n",
    "    👉 <b>Some simple mathematical operations by using math module <br>\n",
    "    👉 <b>Math module contains various mathematical functions\n",
    "</div>"
   ]
  },
  {
   "cell_type": "markdown",
   "metadata": {},
   "source": [
    "**`Reference Document`**: https://docs.python.org/3/library/math.html"
   ]
  },
  {
   "cell_type": "markdown",
   "metadata": {},
   "source": [
    "**`Reference Video`**"
   ]
  },
  {
   "cell_type": "code",
   "execution_count": 18,
   "metadata": {},
   "outputs": [
    {
     "data": {
      "text/html": [
       "\n",
       "        <iframe\n",
       "            width=\"600\"\n",
       "            height=\"200\"\n",
       "            src=\"https://www.youtube.com/embed/https://youtu.be/gktjNyV0xks\"\n",
       "            frameborder=\"0\"\n",
       "            allowfullscreen\n",
       "            \n",
       "        ></iframe>\n",
       "        "
      ],
      "text/plain": [
       "<IPython.lib.display.YouTubeVideo at 0x22625ca2440>"
      ]
     },
     "execution_count": 18,
     "metadata": {},
     "output_type": "execute_result"
    }
   ],
   "source": [
    "YouTubeVideo('https://youtu.be/gktjNyV0xks',width=600,height=200)"
   ]
  },
  {
   "cell_type": "markdown",
   "metadata": {},
   "source": [
    "#### 📌List of Functions in Python Math Module\n",
    "\n",
    "|Function|\tDescription|\n",
    "|--------|-------------|\n",
    "|ceil(x) |\tReturns the smallest integer greater than or equal to x|\n",
    "|copysign(x,y) | Returns x with the sign of y|\n",
    "|fabs(x) |Returns the absolute value of x|\n",
    "|factorial(x)|\tReturns the factorial of x|\n",
    "|floor(x)|\tReturns the largest integer less than or equal to x|\n",
    "|fmod(x, y)|\tReturns the remainder when x is divided by y|\n",
    "|frexp(x)|\tReturns the mantissa and exponent of x as the pair (m, e)|\n",
    "|fsum(iterable)|\tReturns an accurate floating point sum of values in the iterable|\n",
    "|isfinite(x)|\tReturns True if x is neither an infinity nor a NaN (Not a Number)|\n",
    "|isinf(x)|\tReturns True if x is a positive or negative infinity|\n",
    "isnan(x)|\tReturns True if x is a NaN|\n",
    "ldexp(x, i)|\tReturns x * (2**i)|\n",
    "modf(x)|\tReturns the fractional and integer parts of x|\n",
    "trunc(x)|\tReturns the truncated integer value of x|\n",
    "exp(x)|\tReturns e**x|\n",
    "expm1(x)|\tReturns e**x - 1|\n",
    "log(x[, b])|\tReturns the logarithm of x to the base b (defaults to e)|\n",
    "log1p(x)|\tReturns the natural logarithm of 1+x|\n",
    "log2(x)|\tReturns the base-2 logarithm of x|\n",
    "log10(x)|\tReturns the base-10 logarithm of x|\n",
    "pow(x, y)|\tReturns x raised to the power y|\n",
    "sqrt(x)|\tReturns the square root of x|\n",
    "acos(x)|\tReturns the arc cosine of x|\n",
    "asin(x)|\tReturns the arc sine of x|\n",
    "atan(x)|\tReturns the arc tangent of x|\n",
    "atan2(y, x)|\tReturns atan(y / x)|\n",
    "cos(x)|\tReturns the cosine of x|\n",
    "hypot(x, y)|\tReturns the Euclidean norm, sqrt(x*x + y*y)|\n",
    "sin(x)|\tReturns the sine of x|\n",
    "tan(x)|\tReturns the tangent of x|\n",
    "degrees(x)|\tConverts angle x from radians to degrees|\n",
    "radians(x)|\tConverts angle x from degrees to radians|\n",
    "acosh(x)|\tReturns the inverse hyperbolic cosine of x|\n",
    "asinh(x)|\tReturns the inverse hyperbolic sine of x|\n",
    "atanh(x)|\tReturns the inverse hyperbolic tangent of x|\n",
    "cosh(x)|\tReturns the hyperbolic cosine of x|\n",
    "sinh(x)|\tReturns the hyperbolic cosine of x|\n",
    "tanh(x)|\tReturns the hyperbolic tangent of x|\n",
    "erf(x)|\tReturns the error function at x|\n",
    "erfc(x)|\tReturns the complementary error function at x|\n",
    "gamma(x)|\tReturns the Gamma function at x|\n",
    "lgamma(x)|\tReturns the natural logarithm of the absolute value of the Gamma function at x|\n",
    "pi|\tMathematical constant, the ratio of circumference of a circle to it's diameter (3.14159...)|\n",
    "e|\tmathematical constant e (2.71828...)|"
   ]
  },
  {
   "cell_type": "code",
   "execution_count": 19,
   "metadata": {},
   "outputs": [
    {
     "name": "stdout",
     "output_type": "stream",
     "text": [
      "<module 'math' (built-in)>\n"
     ]
    }
   ],
   "source": [
    "#import math module,print math\n",
    "\n",
    "import math\n",
    "print(math)"
   ]
  },
  {
   "cell_type": "code",
   "execution_count": 31,
   "metadata": {},
   "outputs": [
    {
     "name": "stdout",
     "output_type": "stream",
     "text": [
      "2.0 -- 7.7777\n"
     ]
    }
   ],
   "source": [
    "# declare two variables, x = 2 and y = 7.7777 and print them on same format\n",
    "x = 2\n",
    "y = 7.7777\n",
    "x=float(x)\n",
    "print(x,\"--\",y)"
   ]
  },
  {
   "cell_type": "code",
   "execution_count": 32,
   "metadata": {},
   "outputs": [
    {
     "name": "stdout",
     "output_type": "stream",
     "text": [
      "7.7777\n"
     ]
    }
   ],
   "source": [
    "# print the maximum value between x and y  ==> refrence for example : https://www.tutorialgateway.org/python-max-function/\n",
    "x=2\n",
    "y=7.7777\n",
    "maximum=max(x,y)\n",
    "print(maximum)\n"
   ]
  },
  {
   "cell_type": "code",
   "execution_count": 33,
   "metadata": {},
   "outputs": [
    {
     "name": "stdout",
     "output_type": "stream",
     "text": [
      "2\n"
     ]
    }
   ],
   "source": [
    "# Print the minimum value between x and y\n",
    "print(min(x,y))\n"
   ]
  },
  {
   "cell_type": "code",
   "execution_count": 37,
   "metadata": {},
   "outputs": [
    {
     "name": "stdout",
     "output_type": "stream",
     "text": [
      "60.492617290000005 470.49342949643307\n"
     ]
    }
   ],
   "source": [
    "# print Square and Cube of y and store in a and b variable\n",
    "a=y**2\n",
    "b=y**3\n",
    "print(a,b)"
   ]
  },
  {
   "cell_type": "code",
   "execution_count": 46,
   "metadata": {},
   "outputs": [
    {
     "name": "stdout",
     "output_type": "stream",
     "text": [
      "2.95934358848011\n"
     ]
    }
   ],
   "source": [
    "# import math module again\n",
    "import math\n",
    "#print log of y and store it in variable u\n",
    "u=math.log2(y)\n",
    "print(u)\n"
   ]
  },
  {
   "cell_type": "code",
   "execution_count": 47,
   "metadata": {},
   "outputs": [
    {
     "name": "stdout",
     "output_type": "stream",
     "text": [
      "2\n"
     ]
    }
   ],
   "source": [
    "#print minimum value between x, y, a, b and u\n",
    "min_value=min(x,y,a,b,u)\n",
    "print(min_value)\n"
   ]
  },
  {
   "cell_type": "code",
   "execution_count": 48,
   "metadata": {},
   "outputs": [
    {
     "name": "stdout",
     "output_type": "stream",
     "text": [
      "470.49342949643307\n"
     ]
    }
   ],
   "source": [
    "#print maximum value between x, y, a, b and u\n",
    "print(max(x,y,a,b,u))\n"
   ]
  },
  {
   "cell_type": "code",
   "execution_count": 49,
   "metadata": {},
   "outputs": [
    {
     "name": "stdout",
     "output_type": "stream",
     "text": [
      "2\n"
     ]
    }
   ],
   "source": [
    "#print the largest integer that is smaller than or equal to u. ie.round down\n",
    "print(math.floor(u))\n"
   ]
  },
  {
   "cell_type": "code",
   "execution_count": 50,
   "metadata": {},
   "outputs": [
    {
     "name": "stdout",
     "output_type": "stream",
     "text": [
      "3\n"
     ]
    }
   ],
   "source": [
    "#print the smallest integer that is greater than or equal to u ie. round up\n",
    "\n",
    "print(math.ceil(u))"
   ]
  },
  {
   "cell_type": "markdown",
   "metadata": {},
   "source": [
    "## <div style=\"font-family: Trebuchet MS; background-color: #176BA0; color: #FFFFFF; padding: 10px; line-height: 1.5;\">4. | Logical Operations 🔧</div>\n",
    "<div style=\"font-family: Segoe UI; line-height: 2; color: #000000; text-align: justify\">\n",
    "    👉 <b>\"and\", \"or\", \"not\", operations becomes more easy to implement when you have friend like python. <br>\n",
    "</div>\n",
    "\n",
    "**`Reference Video`**"
   ]
  },
  {
   "cell_type": "code",
   "execution_count": 29,
   "metadata": {},
   "outputs": [
    {
     "data": {
      "text/html": [
       "\n",
       "        <iframe\n",
       "            width=\"600\"\n",
       "            height=\"200\"\n",
       "            src=\"https://www.youtube.com/embed/https://youtu.be/9w992l9TFIs\"\n",
       "            frameborder=\"0\"\n",
       "            allowfullscreen\n",
       "            \n",
       "        ></iframe>\n",
       "        "
      ],
      "text/plain": [
       "<IPython.lib.display.YouTubeVideo at 0x22625be6d70>"
      ]
     },
     "execution_count": 29,
     "metadata": {},
     "output_type": "execute_result"
    }
   ],
   "source": [
    "YouTubeVideo('https://youtu.be/9w992l9TFIs',width=600,height=200)"
   ]
  },
  {
   "cell_type": "markdown",
   "metadata": {},
   "source": [
    "|Operator|\tExample\t| Meaning | More |\n",
    "|--------|----------|---------|------|\n",
    "|`and`|\ta and b\t|Logical AND|True only if both the operands are True|\n",
    "|`or`|\ta or b\t|Logical OR|True if at least one of the operands is True|\n",
    "|`not`|\tnot a\t|Logical NOT|True if the operand is False and vice-versa|"
   ]
  },
  {
   "cell_type": "code",
   "execution_count": 1,
   "metadata": {},
   "outputs": [
    {
     "name": "stdout",
     "output_type": "stream",
     "text": [
      "False\n",
      "True\n"
     ]
    }
   ],
   "source": [
    "# declare two variables, a = True, b = False\n",
    "a = True\n",
    "b = False\n",
    "\n",
    "print(b)\n",
    "print(a)"
   ]
  },
  {
   "cell_type": "code",
   "execution_count": 2,
   "metadata": {},
   "outputs": [
    {
     "name": "stdout",
     "output_type": "stream",
     "text": [
      "<class 'bool'>\n",
      "<class 'bool'>\n"
     ]
    }
   ],
   "source": [
    "# print type of a and type of b\n",
    "print(type(a))\n",
    "print(type(b))"
   ]
  },
  {
   "cell_type": "markdown",
   "metadata": {},
   "source": [
    "<font color='red'>\n",
    "The Python Boolean type is one of Python's built-in data types. It's used to represent the truth value of an expression"
   ]
  },
  {
   "cell_type": "code",
   "execution_count": 4,
   "metadata": {},
   "outputs": [
    {
     "name": "stdout",
     "output_type": "stream",
     "text": [
      "Value of a is 1\n",
      "Value of b is 0\n"
     ]
    }
   ],
   "source": [
    "# print int(a) and int(b)\n",
    "print(\"Value of a is\",int(a))\n",
    "print(\"Value of b is\",int(b))"
   ]
  },
  {
   "cell_type": "markdown",
   "metadata": {},
   "source": [
    "<font color='red'>\n",
    "I am sure you must have seen that, values for 'True' is 1 and for 'False' is 0."
   ]
  },
  {
   "cell_type": "code",
   "execution_count": 5,
   "metadata": {},
   "outputs": [
    {
     "name": "stdout",
     "output_type": "stream",
     "text": [
      "not a =  True\n",
      "not b =  False\n",
      "a and b =  False\n",
      "a or b =  True\n",
      "a and not b False\n"
     ]
    }
   ],
   "source": [
    "# Find and print the values of not a, not b, a and b, a or b, a and not b\n",
    "# Use not operator for not a and not b\n",
    "a=False\n",
    "b=True\n",
    "print(\"not a = \",not a)\n",
    "print(\"not b = \",not b)\n",
    "print(\"a and b = \",a and b)\n",
    "print(\"a or b = \",a or b)\n",
    "print(\"a and not b\",a and not b)\n"
   ]
  },
  {
   "cell_type": "markdown",
   "metadata": {},
   "source": [
    "<font color='red'>\n",
    "Try to undertand the above output!"
   ]
  },
  {
   "cell_type": "markdown",
   "metadata": {},
   "source": [
    "## <div style=\"font-family: Trebuchet MS; background-color: #176BA0; color: #FFFFFF; padding: 10px; line-height: 1.5;\">5. | List Comprehensions 🔠</div>\n",
    "<div style=\"font-family: Segoe UI; line-height: 2; color: #000000; text-align: justify\">\n",
    "    👉 <b>List comprehension offers a shorter syntax when you want to create a new list based on the values of an existing list <br>\n",
    "</div>\n",
    "\n",
    "\n",
    "**`Reference Video`**"
   ]
  },
  {
   "cell_type": "code",
   "execution_count": 34,
   "metadata": {},
   "outputs": [
    {
     "data": {
      "text/html": [
       "\n",
       "        <iframe\n",
       "            width=\"600\"\n",
       "            height=\"200\"\n",
       "            src=\"https://www.youtube.com/embed/https://youtu.be/17gTGqHG5xQ\"\n",
       "            frameborder=\"0\"\n",
       "            allowfullscreen\n",
       "            \n",
       "        ></iframe>\n",
       "        "
      ],
      "text/plain": [
       "<IPython.lib.display.YouTubeVideo at 0x22625ca2d10>"
      ]
     },
     "execution_count": 34,
     "metadata": {},
     "output_type": "execute_result"
    }
   ],
   "source": [
    "YouTubeVideo('https://youtu.be/17gTGqHG5xQ',width=600,height=200)"
   ]
  },
  {
   "cell_type": "code",
   "execution_count": 4,
   "metadata": {},
   "outputs": [
    {
     "name": "stdout",
     "output_type": "stream",
     "text": [
      "[1, 2, 3, 4, 5, 6, 7, 8, 9, 10, 11, 12, 13, 14, 15]\n"
     ]
    }
   ],
   "source": [
    "# Using list comprehension, create a list containing numbers from 1 to 15. \n",
    "# Hint: You can use range function of python to do this.\n",
    "\n",
    "#code here\n",
    "lis=[]\n",
    "for i in range (1,16):\n",
    "    lis.append(i)\n",
    "print(lis)"
   ]
  },
  {
   "cell_type": "code",
   "execution_count": 6,
   "metadata": {},
   "outputs": [
    {
     "name": "stdout",
     "output_type": "stream",
     "text": [
      "[2, 4, 6, 8, 10, 12, 14, 16, 18, 20, 22, 24]\n"
     ]
    }
   ],
   "source": [
    "# Using list comprehension, create a list containing numbers from 1 to 25 that are even\n",
    "\n",
    "#code here\n",
    "evens = [x for x in range(1, 26) if x % 2 == 0]\n",
    "print(evens)"
   ]
  },
  {
   "cell_type": "markdown",
   "metadata": {},
   "source": [
    "#### <div style=\"font-family: Trebuchet MS; background-color: #1AC9E6; color: #FFFFFF; padding: 6px; line-height: 1.5;\">5.1 | Task</div>\n",
    "\n",
    "<mark><b> Create a list of all the given names.<br> Using list comprehension, create another list which contains the total number of charachters for each corresponding names.\n",
    "</b></mark>\n",
    "\n",
    "- Eg. \n",
    "\n",
    "<pre>\n",
    "    Given Names --> 'manralai','apple','AiCareerMaster','kiwi','omg'\n",
    "    then output would be - [6, 5, 6, 5, 8]\n",
    "</pre>"
   ]
  },
  {
   "cell_type": "code",
   "execution_count": 36,
   "metadata": {},
   "outputs": [
    {
     "name": "stdout",
     "output_type": "stream",
     "text": [
      "['manralai', 'apple', 'AiCareerMaster', 'AiCareerMaster', 'omg']\n",
      "[8, 5, 14, 14, 3]\n"
     ]
    }
   ],
   "source": [
    "names_plus = ['manralai','apple','AiCareerMaster','kiwi','omg'] #your code here\n",
    "names_i_like =  [x if x != 'kiwi' else 'AiCareerMaster' for x in names_plus] #your code here\n",
    " \n",
    "len_names = [len(x) for x in names_i_like] #your code here\n",
    "\n",
    "print(names_i_like)\n",
    "print(len_names)"
   ]
  },
  {
   "cell_type": "markdown",
   "metadata": {},
   "source": [
    "<font color='red'>\n",
    "\n",
    "<b>\n",
    "\n",
    "The above output is shown if name = ['manralai','apple','AiCareerMaster','kiwi','omg'], it can vary for different values of name\n",
    "\n",
    "Amazing, ....... Right?\n"
   ]
  },
  {
   "cell_type": "markdown",
   "metadata": {},
   "source": [
    "## <div style=\"font-family: Trebuchet MS; background-color: #176BA0; color: #FFFFFF; padding: 10px; line-height: 1.5;\">6. |  Python Datatypes 🔠</div>\n",
    "<div style=\"font-family: Segoe UI; line-height: 2; color: #000000; text-align: justify\">\n",
    "    👉 <b>List comprehension offers a shorter syntax when you want to create a new list based on the values of an existing list \n",
    "\n",
    "<ul> \n",
    "    <li>Numbers</li>\n",
    "    <li>String</li>\n",
    "    <li>List</li>\n",
    "    <li>Tuple</li>\n",
    "    <li>Set</li>\n",
    "    <li>Dictionary</li>\n",
    "</ul>\n",
    "</div>"
   ]
  },
  {
   "cell_type": "markdown",
   "metadata": {},
   "source": [
    "**`Reference Video`**"
   ]
  },
  {
   "cell_type": "code",
   "execution_count": 38,
   "metadata": {},
   "outputs": [
    {
     "data": {
      "text/html": [
       "\n",
       "        <iframe\n",
       "            width=\"600\"\n",
       "            height=\"200\"\n",
       "            src=\"https://www.youtube.com/embed/https://www.youtube.com/watch?v=eeyG2h-z50k&list=PLREhfdPXr-ejNS4IOyY8bwDEH6JCLAsDJ&index=13&t=529s\"\n",
       "            frameborder=\"0\"\n",
       "            allowfullscreen\n",
       "            \n",
       "        ></iframe>\n",
       "        "
      ],
      "text/plain": [
       "<IPython.lib.display.YouTubeVideo at 0x22625ca31f0>"
      ]
     },
     "execution_count": 38,
     "metadata": {},
     "output_type": "execute_result"
    }
   ],
   "source": [
    "YouTubeVideo('https://www.youtube.com/watch?v=eeyG2h-z50k&list=PLREhfdPXr-ejNS4IOyY8bwDEH6JCLAsDJ&index=13&t=529s',width=600,height=200)"
   ]
  },
  {
   "cell_type": "markdown",
   "metadata": {},
   "source": [
    "### <div style=\"font-family: Trebuchet MS; background-color: #1AC9E6; color: #FFFFFF; padding: 6px; line-height: 1.5;\">6.1 | String </div>\n"
   ]
  },
  {
   "cell_type": "markdown",
   "metadata": {},
   "source": [
    "##### `String Methods` (Mostly used)\n",
    "\n",
    "|Methods|\tDescription|\n",
    "|-------|---------------|\n",
    "|`upper()`|\tconverts the string to uppercase\n",
    "`lower()`|\tconverts the string to lowercase\n",
    "`find()`|\treturns the index of first occurrence of substring\n",
    "partition()|\treturns a tuple\n",
    "replace()|\treplaces substring inside\n",
    "rstrip()|\tremoves trailing characters\n",
    "split()|\tsplits string from left\n",
    "startswith()|\tchecks if string starts with the specified string\n",
    "isnumeric()|\tchecks numeric characters\n",
    "index()|\treturns index of substring"
   ]
  },
  {
   "cell_type": "markdown",
   "metadata": {},
   "source": [
    "#### <div style=\"font-family: Trebuchet MS; background-color: #1AC9E6; color: #FFFFFF; padding: 6px; line-height: 1.5;\">6.1.1 |  Characters in Strings </div>\n",
    "\n",
    "**`Reference Document`**: https://www.programiz.com/python-programming/string"
   ]
  },
  {
   "cell_type": "markdown",
   "metadata": {},
   "source": [
    "**`Reference Video`**"
   ]
  },
  {
   "cell_type": "code",
   "execution_count": 39,
   "metadata": {},
   "outputs": [
    {
     "data": {
      "text/html": [
       "\n",
       "        <iframe\n",
       "            width=\"600\"\n",
       "            height=\"200\"\n",
       "            src=\"https://www.youtube.com/embed/https://youtu.be/LnQDWIMaJlA\"\n",
       "            frameborder=\"0\"\n",
       "            allowfullscreen\n",
       "            \n",
       "        ></iframe>\n",
       "        "
      ],
      "text/plain": [
       "<IPython.lib.display.YouTubeVideo at 0x22625ca3f10>"
      ]
     },
     "execution_count": 39,
     "metadata": {},
     "output_type": "execute_result"
    }
   ],
   "source": [
    "YouTubeVideo('https://youtu.be/LnQDWIMaJlA',width=600,height=200)"
   ]
  },
  {
   "cell_type": "code",
   "execution_count": 7,
   "metadata": {},
   "outputs": [
    {
     "name": "stdout",
     "output_type": "stream",
     "text": [
      "manralai\n",
      "aicareermaster\n"
     ]
    }
   ],
   "source": [
    "# declare the variables x = manralai and y = aicareermaster and print it\n",
    "x =  \"manralai\"\n",
    "y =  \"aicareermaster\"\n",
    "\n",
    "print(x) \n",
    "print(y)"
   ]
  },
  {
   "cell_type": "code",
   "execution_count": 8,
   "metadata": {},
   "outputs": [
    {
     "name": "stdout",
     "output_type": "stream",
     "text": [
      "first ch of x =  m\n",
      "first ch of y =  a\n"
     ]
    }
   ],
   "source": [
    "#Print first character of both x and y. \n",
    "x_f=x[0]\n",
    "y_f=y[0]\n",
    "\n",
    "print(\"first ch of x = \",x_f)\n",
    "print(\"first ch of y = \",y_f)"
   ]
  },
  {
   "cell_type": "code",
   "execution_count": 9,
   "metadata": {},
   "outputs": [
    {
     "name": "stdout",
     "output_type": "stream",
     "text": [
      "Last ch of x = i\n",
      "Last ch of x = r\n"
     ]
    }
   ],
   "source": [
    "#Print last character of both x and y.\n",
    "x_l=x[-1]\n",
    "y_l=y[-1]\n",
    "\n",
    "print(\"Last ch of x =\",x_l)\n",
    "print(\"Last ch of x =\",y_l)"
   ]
  },
  {
   "cell_type": "code",
   "execution_count": 11,
   "metadata": {},
   "outputs": [
    {
     "name": "stdout",
     "output_type": "stream",
     "text": [
      "The length of x =  8\n",
      "The length of y =  14\n"
     ]
    }
   ],
   "source": [
    "#Print len of both x and y\n",
    " #your code here\n",
    " #your code here\n",
    "\n",
    "print(\"The length of x = \",len(x))\n",
    "print(\"The length of y = \",len(y))"
   ]
  },
  {
   "cell_type": "code",
   "execution_count": 12,
   "metadata": {},
   "outputs": [
    {
     "name": "stdout",
     "output_type": "stream",
     "text": [
      "manralaiaicareermaster\n"
     ]
    }
   ],
   "source": [
    "#concatenate both x and y and store it in variable z and print z\n",
    " #your code here\n",
    "z=x+y\n",
    "print(z)"
   ]
  },
  {
   "cell_type": "code",
   "execution_count": 13,
   "metadata": {},
   "outputs": [
    {
     "name": "stdout",
     "output_type": "stream",
     "text": [
      "True\n"
     ]
    }
   ],
   "source": [
    "#check if x is part of z \n",
    "if x in z:\n",
    "    print(\"True\")"
   ]
  },
  {
   "cell_type": "markdown",
   "metadata": {},
   "source": [
    "\n",
    "#### <div style=\"font-family: Trebuchet MS; background-color: #1AC9E6; color: #FFFFFF; padding: 6px; line-height: 1.5;\">6.1.2 |  String Slicing </div>\n",
    "\n",
    "<div style=\"font-family: Segoe UI; line-height: 2; color: #000000; text-align: justify\">\n",
    "    👉 <b>Python slicing is about obtaining a sub-string from the given string by slicing it respectively from start to end\n",
    "\n",
    "Let's implement it here!\n"
   ]
  },
  {
   "cell_type": "code",
   "execution_count": 14,
   "metadata": {},
   "outputs": [
    {
     "name": "stdout",
     "output_type": "stream",
     "text": [
      "manralai\n"
     ]
    }
   ],
   "source": [
    "#Create variable a = “manralai”\n",
    " #your code here\n",
    "a = \"manralai\"\n",
    "print(a)\n"
   ]
  },
  {
   "cell_type": "code",
   "execution_count": 15,
   "metadata": {},
   "outputs": [
    {
     "name": "stdout",
     "output_type": "stream",
     "text": [
      "manral\n",
      "ai\n"
     ]
    }
   ],
   "source": [
    "# Using index slicing, print the words \"manral\" and \"ai\"\n",
    "# HINT - a[:]\n",
    "print(a[0:6])\n",
    "print(a[6:])"
   ]
  },
  {
   "cell_type": "code",
   "execution_count": 19,
   "metadata": {},
   "outputs": [
    {
     "name": "stdout",
     "output_type": "stream",
     "text": [
      "MANRALAI\n"
     ]
    }
   ],
   "source": [
    "#Convert a into upper case\n",
    "\n",
    "print(a.upper())"
   ]
  },
  {
   "cell_type": "markdown",
   "metadata": {},
   "source": [
    "\n",
    "#### <div style=\"font-family: Trebuchet MS; background-color: #1AC9E6; color: #FFFFFF; padding: 6px; line-height: 1.5;\">6.1.3 |  Dealing with Sentences </div>"
   ]
  },
  {
   "cell_type": "code",
   "execution_count": 20,
   "metadata": {},
   "outputs": [
    {
     "name": "stdout",
     "output_type": "stream",
     "text": [
      "This is apply first course\n"
     ]
    }
   ],
   "source": [
    "# Declare a sentence of ‘This is apply first course’ and print it\n",
    " #your code here\n",
    "sent=\"This is apply first course\"\n",
    "print(sent)"
   ]
  },
  {
   "cell_type": "code",
   "execution_count": 28,
   "metadata": {},
   "outputs": [
    {
     "name": "stdout",
     "output_type": "stream",
     "text": [
      "length of sentence is 5\n"
     ]
    }
   ],
   "source": [
    "#Print length of the sentence\n",
    "print(\"length of sentence is\",len(sent))"
   ]
  },
  {
   "cell_type": "code",
   "execution_count": 30,
   "metadata": {},
   "outputs": [
    {
     "name": "stdout",
     "output_type": "stream",
     "text": [
      "This is apply first course\n"
     ]
    }
   ],
   "source": [
    "#Using list indexing, to print the word \"course\"\n",
    "sent=\"This is apply first course\"\n",
    "print(sent)"
   ]
  },
  {
   "cell_type": "code",
   "execution_count": 31,
   "metadata": {},
   "outputs": [
    {
     "name": "stdout",
     "output_type": "stream",
     "text": [
      "['This', 'is', 'apply', 'first', 'course']\n"
     ]
    }
   ],
   "source": [
    "# Use .split to get list of individual words in the sentence\n",
    " #your code here\n",
    "print(sent.split())"
   ]
  },
  {
   "cell_type": "code",
   "execution_count": 32,
   "metadata": {},
   "outputs": [
    {
     "name": "stdout",
     "output_type": "stream",
     "text": [
      "this is apply first course\n"
     ]
    }
   ],
   "source": [
    "# Convert sentence in lower case \n",
    " #your code here\n",
    "print(sent.lower())"
   ]
  },
  {
   "cell_type": "code",
   "execution_count": 33,
   "metadata": {},
   "outputs": [
    {
     "name": "stdout",
     "output_type": "stream",
     "text": [
      "THIS IS APPLY FIRST COURSE\n"
     ]
    }
   ],
   "source": [
    "# Convert sentence in upper case .\n",
    "print(sent.upper())"
   ]
  },
  {
   "cell_type": "markdown",
   "metadata": {},
   "source": [
    "**Great job! Slicing is fun.....!!!**"
   ]
  },
  {
   "cell_type": "markdown",
   "metadata": {},
   "source": [
    "## <div style=\"font-family: Trebuchet MS; background-color: #176BA0; color: #FFFFFF; padding: 10px; line-height: 1.5;\">7. |  Flow Control 🔠</div>\n",
    "\n",
    "\n",
    "\n",
    "**`Reference Video`**: https://youtu.be/6iF8Xb7Z3wQ"
   ]
  },
  {
   "cell_type": "code",
   "execution_count": 55,
   "metadata": {},
   "outputs": [
    {
     "data": {
      "text/html": [
       "\n",
       "        <iframe\n",
       "            width=\"600\"\n",
       "            height=\"200\"\n",
       "            src=\"https://www.youtube.com/embed/https://www.youtube.com/watch?v=XvudSgMLATw&list=PLREhfdPXr-ejNS4IOyY8bwDEH6JCLAsDJ&index=15\"\n",
       "            frameborder=\"0\"\n",
       "            allowfullscreen\n",
       "            \n",
       "        ></iframe>\n",
       "        "
      ],
      "text/plain": [
       "<IPython.lib.display.YouTubeVideo at 0x22625be53c0>"
      ]
     },
     "execution_count": 55,
     "metadata": {},
     "output_type": "execute_result"
    }
   ],
   "source": [
    "YouTubeVideo('https://www.youtube.com/watch?v=XvudSgMLATw&list=PLREhfdPXr-ejNS4IOyY8bwDEH6JCLAsDJ&index=15',width=600,height=200)"
   ]
  },
  {
   "cell_type": "markdown",
   "metadata": {},
   "source": [
    "\n",
    "### <div style=\"font-family: Trebuchet MS; background-color: #1AC9E6; color: #FFFFFF; padding: 6px; line-height: 1.5;\">7.1 | If..else Condition</div>\n",
    "\n",
    "<pre>\n",
    "    if condition:\n",
    "        statement\n",
    "    elif condition:\n",
    "        statement\n",
    "    else:\n",
    "        statement\n",
    "</pre>"
   ]
  },
  {
   "cell_type": "code",
   "execution_count": 35,
   "metadata": {},
   "outputs": [
    {
     "name": "stdout",
     "output_type": "stream",
     "text": [
      "108\n"
     ]
    }
   ],
   "source": [
    "#Declare a variable x equal to a number 108\n",
    "x=108\n",
    "print(x)\n"
   ]
  },
  {
   "cell_type": "code",
   "execution_count": 2,
   "metadata": {},
   "outputs": [
    {
     "name": "stdout",
     "output_type": "stream",
     "text": [
      "108 is positive\n"
     ]
    }
   ],
   "source": [
    "#Using an if statement, print whether x is zero, positive or negative.\n",
    "# hint: if x > 0 then +ve, elfi x < 0 then -ve, else zero  \n",
    "x=108\n",
    "if x>0:\n",
    "    print(x,\"is positive\")\n",
    "elif x<0:\n",
    "    print(x,\"is negative\")\n",
    "else:\n",
    "    print(x,\"is zero\")"
   ]
  },
  {
   "cell_type": "code",
   "execution_count": 6,
   "metadata": {},
   "outputs": [
    {
     "name": "stdout",
     "output_type": "stream",
     "text": [
      "x is  zero\n"
     ]
    }
   ],
   "source": [
    "#define a function, which takes input from the user and prints whether the given input is zero, positive or negative.\n",
    "# code here\n",
    "x=int(input(\"Enter the number\"))\n",
    "def checking(x):\n",
    "    if x==0:\n",
    "        print(\"x is  zero\")\n",
    "    elif x>0:\n",
    "        print(\"x is positive\")\n",
    "    else:\n",
    "        print(\"x is negative\")\n",
    "checking(x)\n",
    "    "
   ]
  },
  {
   "cell_type": "markdown",
   "metadata": {},
   "source": [
    "\n",
    "### <div style=\"font-family: Trebuchet MS; background-color: #1AC9E6; color: #FFFFFF; padding: 6px; line-height: 1.5;\">7.2 | For Loop </div>"
   ]
  },
  {
   "cell_type": "code",
   "execution_count": 12,
   "metadata": {},
   "outputs": [
    {
     "name": "stdout",
     "output_type": "stream",
     "text": [
      "<class 'list'>\n"
     ]
    }
   ],
   "source": [
    "#Create a list x, such that it contains the elements - ‘India’, ‘Israel’,’Ukrain’, check type of x\n",
    "x=['India', 'Israel','Ukrain']\n",
    "print(type(x))"
   ]
  },
  {
   "cell_type": "code",
   "execution_count": 13,
   "metadata": {},
   "outputs": [
    {
     "name": "stdout",
     "output_type": "stream",
     "text": [
      "India\n",
      "Israel\n",
      "Ukrain\n"
     ]
    }
   ],
   "source": [
    "# Using For loop, iterate over the list and print the elements.\n",
    "x=['India', 'Israel','Ukrain']\n",
    "for i in range(len(x)):\n",
    "    print(x[i])\n"
   ]
  },
  {
   "cell_type": "code",
   "execution_count": 17,
   "metadata": {},
   "outputs": [
    {
     "name": "stdout",
     "output_type": "stream",
     "text": [
      "2 * 1  =  2\n",
      "2 * 2  =  4\n",
      "2 * 3  =  6\n",
      "2 * 4  =  8\n",
      "2 * 5  =  10\n",
      "2 * 6  =  12\n",
      "2 * 7  =  14\n",
      "2 * 8  =  16\n",
      "2 * 9  =  18\n",
      "2 * 10  =  20\n"
     ]
    }
   ],
   "source": [
    "# Using For loop, print the table of 2.\n",
    "#code her\n",
    "for i in range(1,11):\n",
    "    print(\"2 *\",i,\" = \",2*i)    "
   ]
  },
  {
   "cell_type": "markdown",
   "metadata": {},
   "source": [
    "#### <div style=\"font-family: Trebuchet MS; background-color: #1AC9E6; color: #FFFFFF; padding: 6px; line-height: 1.5;\">7.2.1 | Task</div>\n",
    "\n",
    "<mark><b> For a given list, use for loop to iterate over the items and using, if statement print the items that are of \"type int\"\n",
    "</mark> \n",
    "\n",
    "<pre>\n",
    "    list elements --> 108, ‘hello, ’manralai’, 10008, 100000008, ’aicareermaster’ \n",
    "</pre>\n",
    "\n"
   ]
  },
  {
   "cell_type": "code",
   "execution_count": 25,
   "metadata": {},
   "outputs": [
    {
     "name": "stdout",
     "output_type": "stream",
     "text": [
      "108\n",
      "10008\n",
      "100000008\n"
     ]
    }
   ],
   "source": [
    "#code here\n",
    "items=[108, 'hello', 'manralai', 10008, 100000008, 'aicareermaster']\n",
    "for i in range(len(items)):\n",
    "    type_item=type(items[i])\n",
    "    if type_item is int:\n",
    "      print(items[i])\n",
    "        "
   ]
  },
  {
   "cell_type": "markdown",
   "metadata": {},
   "source": [
    "#### <div style=\"font-family: Trebuchet MS; background-color: #1AC9E6; color: #FFFFFF; padding: 6px; line-height: 1.5;\">7.2.2 | Task</div>\n",
    "\n",
    "<mark><b> Using For loop, lets create this pattern.\n",
    "</mark> \n",
    "\n",
    "<pre>\n",
    "* \n",
    "* * \n",
    "* * * \n",
    "* * * * \n",
    "* * * * *  \n",
    "</pre>\n"
   ]
  },
  {
   "cell_type": "code",
   "execution_count": 39,
   "metadata": {},
   "outputs": [
    {
     "name": "stdout",
     "output_type": "stream",
     "text": [
      "* \n",
      "* * \n",
      "* * * \n",
      "* * * * \n",
      "* * * * * \n"
     ]
    }
   ],
   "source": [
    "# print the above pattern\n",
    "num=int(input(\"Enter no of rows\"))\n",
    "for i in range(1,num+1):\n",
    "    for j in range(1,i+1):\n",
    "        print(\"* \",end=\"\")\n",
    "    print()\n",
    "    \n"
   ]
  },
  {
   "cell_type": "markdown",
   "metadata": {},
   "source": [
    "#### <div style=\"font-family: Trebuchet MS; background-color: #1AC9E6; color: #FFFFFF; padding: 6px; line-height: 1.5;\">7.2.3 | Task</div>\n",
    "\n",
    "<mark><b> Remove duplicates from this given list, print uniqu element only\n",
    "</mark> \n",
    "\n",
    "<pre>\n",
    "    list elements --> 'A','A','B','C','A','D','E','E','F','G','H','E','D'\n",
    "</pre>"
   ]
  },
  {
   "cell_type": "code",
   "execution_count": 40,
   "metadata": {},
   "outputs": [
    {
     "name": "stdout",
     "output_type": "stream",
     "text": [
      "['C', 'G', 'B', 'A', 'H', 'E', 'D', 'F']\n"
     ]
    }
   ],
   "source": [
    "#code here\n",
    "elem=['A','A','B','C','A','D','E','E','F','G','H','E','D']\n",
    "elem = list(set(elem))\n",
    "print(elem)\n"
   ]
  },
  {
   "cell_type": "markdown",
   "metadata": {},
   "source": [
    "#### <div style=\"font-family: Trebuchet MS; background-color: #1AC9E6; color: #FFFFFF; padding: 6px; line-height: 1.5;\">7.2.4 | Task</div>\n",
    "\n",
    "<mark><b> Use \"\"List comprehention\"\" for solving above problem in shhorter way!!!\n",
    "</mark> \n"
   ]
  },
  {
   "cell_type": "code",
   "execution_count": 23,
   "metadata": {},
   "outputs": [],
   "source": [
    "#listcomprehention code here\n",
    "elem=['A','A','B','C','A','D','E','E','F','G','H','E','D']\n",
    "elem = list(set(elem))\n",
    "print(elem)"
   ]
  },
  {
   "cell_type": "markdown",
   "metadata": {},
   "source": [
    "\n",
    "### <div style=\"font-family: Trebuchet MS; background-color: #1AC9E6; color: #FFFFFF; padding: 6px; line-height: 1.5;\">7.3 | While Loop </div>"
   ]
  },
  {
   "cell_type": "code",
   "execution_count": 24,
   "metadata": {},
   "outputs": [
    {
     "ename": "NameError",
     "evalue": "name 'YouTubeVideo' is not defined",
     "output_type": "error",
     "traceback": [
      "\u001b[1;31m---------------------------------------------------------------------------\u001b[0m",
      "\u001b[1;31mNameError\u001b[0m                                 Traceback (most recent call last)",
      "Cell \u001b[1;32mIn[24], line 1\u001b[0m\n\u001b[1;32m----> 1\u001b[0m \u001b[43mYouTubeVideo\u001b[49m(\u001b[38;5;124m'\u001b[39m\u001b[38;5;124mhttps://www.youtube.com/watch?v=YXSu2X9cAtw&list=PLREhfdPXr-ejNS4IOyY8bwDEH6JCLAsDJ&index=16\u001b[39m\u001b[38;5;124m'\u001b[39m,width\u001b[38;5;241m=\u001b[39m\u001b[38;5;241m600\u001b[39m,height\u001b[38;5;241m=\u001b[39m\u001b[38;5;241m200\u001b[39m)\n",
      "\u001b[1;31mNameError\u001b[0m: name 'YouTubeVideo' is not defined"
     ]
    }
   ],
   "source": [
    "YouTubeVideo('https://www.youtube.com/watch?v=YXSu2X9cAtw&list=PLREhfdPXr-ejNS4IOyY8bwDEH6JCLAsDJ&index=16',width=600,height=200)"
   ]
  },
  {
   "cell_type": "markdown",
   "metadata": {},
   "source": [
    "#### <div style=\"font-family: Trebuchet MS; background-color: #1AC9E6; color: #FFFFFF; padding: 6px; line-height: 1.5;\">7.3.1 | Task</div>\n",
    "\n",
    "<mark><b> Write the code following these instructions. </b>\n",
    "</mark> \n",
    "\n",
    "<pre>\n",
    "    - Set a variable flag = True, num = 10\n",
    "    - Run a while loop till flag = True\n",
    "    - Inside the while loop - \n",
    "        - Increment the value of num by 2\n",
    "        - If value of num is greater then 20, set flag to be False\n",
    "</pre>  "
   ]
  },
  {
   "cell_type": "code",
   "execution_count": 49,
   "metadata": {},
   "outputs": [
    {
     "name": "stdout",
     "output_type": "stream",
     "text": [
      "False\n"
     ]
    }
   ],
   "source": [
    "# your code here\n",
    "flag=True\n",
    "num=10\n",
    "while flag:\n",
    "    num+=2\n",
    "    if num>20:\n",
    "        flag=False\n",
    "print(flag)"
   ]
  },
  {
   "cell_type": "markdown",
   "metadata": {},
   "source": [
    "#### <div style=\"font-family: Trebuchet MS; background-color: #1AC9E6; color: #FFFFFF; padding: 6px; line-height: 1.5;\">7.3.2 | Task</div>\n",
    "\n",
    "<mark><b> Calculate factorial of a number (here number=7) using while loop </b>\n",
    "</mark> \n",
    "\n",
    "<pre>\n",
    "    number = \n",
    "    fac = \n",
    "    if ...:\n",
    "        print(...)\n",
    "    else:\n",
    "        while ...:\n",
    "            fac = ...\n",
    "            number = ...\n",
    "        print(...)\n",
    "</pre>  "
   ]
  },
  {
   "cell_type": "code",
   "execution_count": 50,
   "metadata": {},
   "outputs": [
    {
     "data": {
      "text/plain": [
       "120"
      ]
     },
     "execution_count": 50,
     "metadata": {},
     "output_type": "execute_result"
    }
   ],
   "source": [
    "# code here\n",
    "def factorial(n):\n",
    "    num = 1\n",
    "    while n >= 1:\n",
    "        num = num * n\n",
    "        n = n - 1\n",
    "    return num\n",
    "factorial(5)"
   ]
  },
  {
   "cell_type": "markdown",
   "metadata": {},
   "source": [
    "#### <div style=\"font-family: Trebuchet MS; background-color: #1AC9E6; color: #FFFFFF; padding: 6px; line-height: 1.5;\">7.3.3 | Task</div>\n",
    "\n",
    "<mark><b> Reverse this given integer number \"8384809584737\" and display the count of total number of digits in your revered number using while loop. </b>\n",
    "</mark> \n",
    "\n",
    "<pre>\n",
    "    num = \n",
    "    count = \n",
    "    reverse_number = \n",
    "    while ...:\n",
    "\n",
    "    print(...)\n",
    "</pre>  "
   ]
  },
  {
   "cell_type": "code",
   "execution_count": 4,
   "metadata": {},
   "outputs": [
    {
     "name": "stdout",
     "output_type": "stream",
     "text": [
      "Reversed Number: 4321\n"
     ]
    }
   ],
   "source": [
    "#code here\n",
    "num = 1234\n",
    "reversed_num = 0\n",
    "\n",
    "while num != 0:\n",
    "    digit = num % 10\n",
    "    reversed_num = reversed_num * 10 + digit\n",
    "    num //= 10\n",
    "\n",
    "print(\"Reversed Number: \" + str(reversed_num))"
   ]
  },
  {
   "cell_type": "markdown",
   "metadata": {},
   "source": [
    "#### <div style=\"font-family: Trebuchet MS; background-color: #1AC9E6; color: #FFFFFF; padding: 6px; line-height: 1.5;\">7.3.4 | Task</div>\n",
    "\n",
    "<mark><b> Reverse this number \"8384809584737\" without using loop in just one line?. </b>\n",
    "</mark> \n",
    "\n",
    "<pre>\n",
    "    Hint: apply some slicing trick to do it    \n",
    "</pre>  "
   ]
  },
  {
   "cell_type": "code",
   "execution_count": 3,
   "metadata": {},
   "outputs": [
    {
     "name": "stdout",
     "output_type": "stream",
     "text": [
      "7374859084838\n"
     ]
    }
   ],
   "source": [
    "#code here\n",
    "num=8384809584737\n",
    "reverse = int(str(num)[::-1])\n",
    "print(reverse)"
   ]
  },
  {
   "cell_type": "markdown",
   "metadata": {},
   "source": [
    "\n",
    "### <div style=\"font-family: Trebuchet MS; background-color: #1AC9E6; color: #FFFFFF; padding: 6px; line-height: 1.5;\">7.4 | Statements (Break & Continue) </div>\n",
    "\n",
    "<div style=\"font-family: Segoe UI; line-height: 2; color: #000000; text-align: justify\">\n",
    "    👉 <b>\"Break statement\" is used to terminate the loop immediately when it is encountered. <br>\n",
    "    👉 <b>\"Continue statement\" is used to skip the current iteration of the loop and the control flow of the program goes to the next iteration\n",
    "\n",
    "</div>\n"
   ]
  },
  {
   "cell_type": "markdown",
   "metadata": {},
   "source": [
    "### `Working of Break Statement`\n",
    "\n",
    "<pre>\n",
    "    for values in sequence:\n",
    "        #code here\n",
    "        if condition:\n",
    "            break\n",
    "        #more code here\n",
    "    -----------------------\n",
    "    while condition:\n",
    "        #code here\n",
    "        if condition:\n",
    "            break\n",
    "        #more code here\n",
    "</pre>"
   ]
  },
  {
   "cell_type": "code",
   "execution_count": null,
   "metadata": {},
   "outputs": [
    {
     "data": {
      "text/html": [
       "\n",
       "        <iframe\n",
       "            width=\"600\"\n",
       "            height=\"200\"\n",
       "            src=\"https://www.youtube.com/embed/https://www.youtube.com/watch?v=y0lKjc9ZlPQ&list=PLREhfdPXr-ejNS4IOyY8bwDEH6JCLAsDJ&index=17\"\n",
       "            frameborder=\"0\"\n",
       "            allowfullscreen\n",
       "            \n",
       "        ></iframe>\n",
       "        "
      ],
      "text/plain": [
       "<IPython.lib.display.YouTubeVideo at 0x226270a8610>"
      ]
     },
     "execution_count": 71,
     "metadata": {},
     "output_type": "execute_result"
    }
   ],
   "source": [
    "YouTubeVideo('https://www.youtube.com/watch?v=y0lKjc9ZlPQ&list=PLREhfdPXr-ejNS4IOyY8bwDEH6JCLAsDJ&index=17',width=600,height=200)"
   ]
  },
  {
   "cell_type": "markdown",
   "metadata": {},
   "source": [
    "#### <div style=\"font-family: Trebuchet MS; background-color: #1AC9E6; color: #FFFFFF; padding: 6px; line-height: 1.5;\">7.4.1 | Task (Break Statement with for Loop)</div>\n",
    "<mark><b> Use the break statement with the for loop to terminate the loop(break) when a certain condition(i==5) is met.\n",
    "</mark>"
   ]
  },
  {
   "cell_type": "code",
   "execution_count": 6,
   "metadata": {},
   "outputs": [
    {
     "name": "stdout",
     "output_type": "stream",
     "text": [
      "10\n"
     ]
    }
   ],
   "source": [
    "## implement a for loop to print value of i in range of (5,20) || condition if i == 10, then break || print i at last\n",
    "#code here\n",
    "for i in range(5,20):\n",
    "    if i==10:\n",
    "        break\n",
    "print(i)"
   ]
  },
  {
   "cell_type": "markdown",
   "metadata": {},
   "source": [
    "#### <div style=\"font-family: Trebuchet MS; background-color: #1AC9E6; color: #FFFFFF; padding: 6px; line-height: 1.5;\">7.4.2 | Task (Break Statement with while Loop)</div>\n",
    "<mark><b> Use the break statement with the while loop to find the first 7 multiples of 7.\n",
    "</mark>"
   ]
  },
  {
   "cell_type": "code",
   "execution_count": 7,
   "metadata": {},
   "outputs": [
    {
     "name": "stdout",
     "output_type": "stream",
     "text": [
      "7\n",
      "14\n",
      "21\n",
      "28\n",
      "35\n",
      "42\n",
      "49\n"
     ]
    }
   ],
   "source": [
    "## implement program to find first 7 multiples of 7\n",
    "num = 1\n",
    "multiples_found = 0\n",
    "while True:\n",
    "    if num % 7 == 0:\n",
    "        print(num)\n",
    "        multiples_found += 1\n",
    "    if multiples_found == 7:\n",
    "        break\n",
    "    num += 1\n",
    "#code here"
   ]
  },
  {
   "cell_type": "markdown",
   "metadata": {},
   "source": [
    "### `Working of Continue Statement`\n",
    "\n",
    "<pre>\n",
    "    for values in sequence:\n",
    "        #code here\n",
    "        if condition:\n",
    "            continue\n",
    "        #more code here\n",
    "    -----------------------\n",
    "    while condition:\n",
    "        #code here\n",
    "        if condition:\n",
    "            continue\n",
    "        #more code here\n",
    "</pre>"
   ]
  },
  {
   "cell_type": "markdown",
   "metadata": {},
   "source": [
    "#### <div style=\"font-family: Trebuchet MS; background-color: #1AC9E6; color: #FFFFFF; padding: 6px; line-height: 1.5;\">7.4.3 | Task (Continue Statement with for Loop)</div>\n",
    "<mark><b> Use the continue statement with the for loop to print number upto 7, but for the 3rd number skip(dont print number 3).\n",
    "</mark>"
   ]
  },
  {
   "cell_type": "code",
   "execution_count": 10,
   "metadata": {},
   "outputs": [
    {
     "name": "stdout",
     "output_type": "stream",
     "text": [
      "1\n",
      "2\n",
      "4\n",
      "5\n",
      "6\n",
      "7\n"
     ]
    }
   ],
   "source": [
    "## implement for loop with range of (1,8)\n",
    "for i in range(1,8):\n",
    "    if i==3:\n",
    "        continue\n",
    "    print(i)\n",
    "    "
   ]
  },
  {
   "cell_type": "markdown",
   "metadata": {},
   "source": [
    "#### <div style=\"font-family: Trebuchet MS; background-color: #1AC9E6; color: #FFFFFF; padding: 6px; line-height: 1.5;\">7.4.4 | Task (Continue Statement with while Loop)</div>\n",
    "<mark><b> Use the continue statement with the while loop to print odd number between 0 to 10.\n",
    "</mark>"
   ]
  },
  {
   "cell_type": "code",
   "execution_count": 11,
   "metadata": {},
   "outputs": [
    {
     "name": "stdout",
     "output_type": "stream",
     "text": [
      "1\n",
      "3\n",
      "5\n",
      "7\n",
      "9\n"
     ]
    }
   ],
   "source": [
    "## write a program to print odd numbers between 0 to 10\n",
    "\n",
    "#code here\n",
    "for i in range(0,11):\n",
    "    if i%2!=0:\n",
    "        print(i)"
   ]
  },
  {
   "cell_type": "code",
   "execution_count": null,
   "metadata": {},
   "outputs": [
    {
     "data": {
      "text/html": [
       "\n",
       "        <iframe\n",
       "            width=\"600\"\n",
       "            height=\"200\"\n",
       "            src=\"https://www.youtube.com/embed/https://www.youtube.com/watch?v=y0lKjc9ZlPQ&list=PLREhfdPXr-ejNS4IOyY8bwDEH6JCLAsDJ&index=18\"\n",
       "            frameborder=\"0\"\n",
       "            allowfullscreen\n",
       "            \n",
       "        ></iframe>\n",
       "        "
      ],
      "text/plain": [
       "<IPython.lib.display.YouTubeVideo at 0x226270a9c30>"
      ]
     },
     "execution_count": 76,
     "metadata": {},
     "output_type": "execute_result"
    }
   ],
   "source": [
    "YouTubeVideo('https://www.youtube.com/watch?v=y0lKjc9ZlPQ&list=PLREhfdPXr-ejNS4IOyY8bwDEH6JCLAsDJ&index=18',width=600,height=200)"
   ]
  },
  {
   "cell_type": "markdown",
   "metadata": {},
   "source": [
    "## <div style=\"font-family: Trebuchet MS; background-color: #176BA0; color: #FFFFFF; padding: 10px; line-height: 1.5;\">8. |  Functions 🔠</div>\n",
    "\n",
    "1. `Code Reusablility` - We can use the same function multiple times in our program which makes our code reusable.\n",
    "2. `Code Readability` - Functions help us break our code into chunks to make our program readable and easy to understand.\n",
    "\n",
    "<pre>\n",
    "    Syntax to declare a function:\n",
    "    \n",
    "    def function_name(argument1, argument2):\n",
    "        # function body \n",
    "        return\n",
    "</pre>\n",
    "\n",
    "* `def` - keyword used to declare a function\n",
    "* `function_name` - any name given to the function\n",
    "* `arguments` - any value passed to function\n",
    "* `return (optional)` - returns value from a function"
   ]
  },
  {
   "cell_type": "markdown",
   "metadata": {},
   "source": [
    "**`Reference Video`**"
   ]
  },
  {
   "cell_type": "code",
   "execution_count": null,
   "metadata": {},
   "outputs": [
    {
     "data": {
      "text/html": [
       "\n",
       "        <iframe\n",
       "            width=\"600\"\n",
       "            height=\"200\"\n",
       "            src=\"https://www.youtube.com/embed/https://www.youtube.com/watch?v=y0lKjc9ZlPQ&list=PLREhfdPXr-ejNS4IOyY8bwDEH6JCLAsDJ&index=19\"\n",
       "            frameborder=\"0\"\n",
       "            allowfullscreen\n",
       "            \n",
       "        ></iframe>\n",
       "        "
      ],
      "text/plain": [
       "<IPython.lib.display.YouTubeVideo at 0x226270a8e20>"
      ]
     },
     "execution_count": 77,
     "metadata": {},
     "output_type": "execute_result"
    }
   ],
   "source": [
    "YouTubeVideo('https://www.youtube.com/watch?v=y0lKjc9ZlPQ&list=PLREhfdPXr-ejNS4IOyY8bwDEH6JCLAsDJ&index=19',width=600,height=200)"
   ]
  },
  {
   "cell_type": "markdown",
   "metadata": {},
   "source": [
    "#### <div style=\"font-family: Trebuchet MS; background-color: #1AC9E6; color: #FFFFFF; padding: 6px; line-height: 1.5;\">8.1 | Task</div>\n",
    "<mark><b> Declare a function named square, which takes an input as x, and returns the square of x.\n",
    "</mark>\n",
    "\n",
    "- Eg. \n",
    "\n",
    "<pre>\n",
    "    def function_name(argument1):\n",
    "        return(argument1)\n",
    "</pre>\n",
    "\n",
    "\n",
    "\n",
    "**`Reference Video`**    "
   ]
  },
  {
   "cell_type": "code",
   "execution_count": null,
   "metadata": {},
   "outputs": [
    {
     "data": {
      "text/html": [
       "\n",
       "        <iframe\n",
       "            width=\"600\"\n",
       "            height=\"200\"\n",
       "            src=\"https://www.youtube.com/embed/https://youtu.be/Rpq9MC67M08\"\n",
       "            frameborder=\"0\"\n",
       "            allowfullscreen\n",
       "            \n",
       "        ></iframe>\n",
       "        "
      ],
      "text/plain": [
       "<IPython.lib.display.YouTubeVideo at 0x226270a9a50>"
      ]
     },
     "execution_count": 78,
     "metadata": {},
     "output_type": "execute_result"
    }
   ],
   "source": [
    "YouTubeVideo('https://youtu.be/Rpq9MC67M08',width=600,height=200)"
   ]
  },
  {
   "cell_type": "code",
   "execution_count": null,
   "metadata": {},
   "outputs": [],
   "source": [
    "# define function here and return square root\n",
    "def square(x):\n",
    "    return x*x\n",
    "#code here"
   ]
  },
  {
   "cell_type": "markdown",
   "metadata": {},
   "source": [
    "<mark><b> Call the function to find square of 9.</b></mark>"
   ]
  },
  {
   "cell_type": "code",
   "execution_count": 12,
   "metadata": {},
   "outputs": [
    {
     "data": {
      "text/plain": [
       "81"
      ]
     },
     "execution_count": 12,
     "metadata": {},
     "output_type": "execute_result"
    }
   ],
   "source": [
    "# find the square of 9 using the function square you have just created\n",
    "def square(x):\n",
    "    return x*x\n",
    "square(9)\n",
    "    \n",
    "#code here"
   ]
  },
  {
   "cell_type": "markdown",
   "metadata": {},
   "source": [
    "Wohoo! see, defining function was simple"
   ]
  },
  {
   "cell_type": "markdown",
   "metadata": {},
   "source": [
    "#### <div style=\"font-family: Trebuchet MS; background-color: #1AC9E6; color: #FFFFFF; padding: 6px; line-height: 1.5;\">8.2 | Task</div>\n",
    "\n",
    "<mark><b> Define another function which checks whether a given number is odd or even for a given input and it should print whether the number is odd or even as an output </b></mark> "
   ]
  },
  {
   "cell_type": "code",
   "execution_count": 13,
   "metadata": {},
   "outputs": [
    {
     "name": "stdout",
     "output_type": "stream",
     "text": [
      "3 is odd\n"
     ]
    }
   ],
   "source": [
    "#write function here\n",
    "def odd_even(x):\n",
    "    if x%2==0:\n",
    "        print(x,\"is even\")\n",
    "    elif x%2!=0:\n",
    "        print(x,\"is odd\")\n",
    "odd_even(3)"
   ]
  },
  {
   "cell_type": "markdown",
   "metadata": {},
   "source": [
    "`Lets use functions to check whether the square of 108,33 and 777 are odd or even`"
   ]
  },
  {
   "cell_type": "code",
   "execution_count": 24,
   "metadata": {},
   "outputs": [
    {
     "name": "stdout",
     "output_type": "stream",
     "text": [
      "11664 is even\n",
      "1089 is odd\n",
      "603729 is odd\n"
     ]
    }
   ],
   "source": [
    "def square(x):\n",
    "    x=x*x\n",
    "    if x%2==0:\n",
    "        print(x,\"is even\")\n",
    "    elif x%2!=0:\n",
    "        print(x,\"is odd\")\n",
    "(square(108))\n",
    "(square(33))\n",
    "(square(777))"
   ]
  },
  {
   "cell_type": "markdown",
   "metadata": {},
   "source": [
    "#### <div style=\"font-family: Trebuchet MS; background-color: #1AC9E6; color: #FFFFFF; padding: 6px; line-height: 1.5;\">8.3 | Task</div>\n",
    "\n",
    "<mark><b> Define a funtion 'occurence' which takes 2 inputs, one list 'lst' and another one a number 'n' and count the number of occurrences of n in your list lst\n",
    "</mark> \n",
    "\n",
    "<pre>\n",
    "    def occurence(lst, n):\n",
    "        .....\n",
    "        .....\n",
    "        return count\n",
    "</pre> "
   ]
  },
  {
   "cell_type": "code",
   "execution_count": 18,
   "metadata": {},
   "outputs": [
    {
     "data": {
      "text/plain": [
       "3"
      ]
     },
     "execution_count": 18,
     "metadata": {},
     "output_type": "execute_result"
    }
   ],
   "source": [
    "#your function code here\n",
    "\n",
    "def occurence(lst,n):\n",
    "    count=0\n",
    "    for i in lst:\n",
    "       if i==1:\n",
    "        count=count+1\n",
    "    return count\n",
    " \n",
    "#lets use your function to find occurance of 1\n",
    "occurence([2,3,4,8,1,3,5,2,1,3,1,2,2], 1)"
   ]
  },
  {
   "cell_type": "markdown",
   "metadata": {},
   "source": [
    "#### <div style=\"font-family: Trebuchet MS; background-color: #1AC9E6; color: #FFFFFF; padding: 6px; line-height: 1.5;\">8.4 | Task</div>\n",
    "\n",
    "<mark><b> Using while loop make a function named as counter, that prints all the values between 1 to n.\n",
    "</mark> \n",
    "\n",
    "<pre>\n",
    "    def counter(n):\n",
    "        .....\n",
    "        .....\n",
    "</pre> "
   ]
  },
  {
   "cell_type": "code",
   "execution_count": 22,
   "metadata": {},
   "outputs": [
    {
     "name": "stdout",
     "output_type": "stream",
     "text": [
      "11\n",
      "10\n",
      "9\n",
      "8\n",
      "7\n",
      "6\n",
      "5\n",
      "4\n",
      "3\n",
      "2\n",
      "1\n"
     ]
    }
   ],
   "source": [
    "def counter(n):\n",
    "    while(n>0):\n",
    "        print(n)\n",
    "        n=n-1\n",
    " # add your code here\n",
    "\n",
    "        \n",
    "counter(11) #this should print numbers from 1 to 10"
   ]
  },
  {
   "cell_type": "markdown",
   "metadata": {},
   "source": [
    "# <h1 style=\"font-family: Trebuchet MS; padding: 12px; font-size: 48px; color: #19AADE; text-align: center; line-height: 1.25;\"><b>🏬<span style=\"color: #000000\"> FeedBack Time 🔧 </span></b></h1>\n",
    "<hr>\n",
    "\n",
    "\n",
    "We sincerely hope that you have found this course to be a valuable and enriching experience so far. \n",
    "As part of our unwavering dedication to maximizing the efficacy of this course, we kindly request your invaluable assistance in providing us with constructive feedback. \n",
    "* Your insights will enable us to continually refine and enhance the course content, ensuring an optimal learning journey for all participants. \n",
    "* Your contribution will greatly contribute to the overall improvement of this course and enable future learners to have an exceptional educational experience.\n",
    "\n",
    "**`Please fill this feedback form`** ==> https://forms.gle/1tCj7dNRC8CysM2X7\n",
    "\n",
    "----"
   ]
  }
 ],
 "metadata": {
  "kernelspec": {
   "display_name": "Python 3 (ipykernel)",
   "language": "python",
   "name": "python3"
  },
  "language_info": {
   "codemirror_mode": {
    "name": "ipython",
    "version": 3
   },
   "file_extension": ".py",
   "mimetype": "text/x-python",
   "name": "python",
   "nbconvert_exporter": "python",
   "pygments_lexer": "ipython3",
   "version": "3.12.2"
  }
 },
 "nbformat": 4,
 "nbformat_minor": 4
}
