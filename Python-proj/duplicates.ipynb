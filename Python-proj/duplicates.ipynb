arr=[1,7,12,3,4,2]
def duplicate(arr):
    lis=[]
    for ele in arr:
        if ele not in lis:
            lis.append(ele)
        else:
            return True
    return False
print(duplicate(arr))