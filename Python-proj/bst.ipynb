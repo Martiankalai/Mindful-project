{
 "cells": [
  {
   "cell_type": "code",
   "execution_count": 16,
   "metadata": {},
   "outputs": [
    {
     "name": "stdout",
     "output_type": "stream",
     "text": [
      "1->2->4->5->7->11->"
     ]
    }
   ],
   "source": [
    "class Node:\n",
    "    def __init__(self, value):\n",
    "        self.value = value\n",
    "        self.left = None\n",
    "        self.right = None\n",
    "class bst:\n",
    "    def __init__(self):\n",
    "         self.root=None\n",
    "    def addchild(self,value):\n",
    "        new_node=Node(value)\n",
    "        if self.root is None:\n",
    "            self.root=new_node\n",
    "        else:\n",
    "            self.addrecursive(self.root,value)\n",
    "    def addrecursive(self,node,value):\n",
    "        new_node=Node(value)\n",
    "        if value < node.value:\n",
    "            if node.left is None:  \n",
    "                node.left=new_node\n",
    "            else:\n",
    "                self.addrecursive(node.left,value)\n",
    "        else:\n",
    "            if node.right is None:\n",
    "                node.right=new_node\n",
    "            else:\n",
    "                self.addrecursive(node.right,value)\n",
    "    def print_inorder(self,node):\n",
    "        if node:\n",
    "            self.print_inorder(node.left)\n",
    "            print(node.value,end=\"->\")\n",
    "            self.print_inorder(node.right)\n",
    "\n",
    "            \n",
    "bstt=bst()\n",
    "bstt.addchild(2)\n",
    "bstt.addchild(1)\n",
    "bstt.addchild(5)\n",
    "bstt.addchild(4)\n",
    "bstt.addchild(7)\n",
    "bstt.addchild(11)\n",
    "bstt.print_inorder(bstt.root)\n",
    "            \n",
    "            \n",
    "                \n",
    "                \n",
    "                "
   ]
  }
 ],
 "metadata": {
  "kernelspec": {
   "display_name": "Python 3",
   "language": "python",
   "name": "python3"
  },
  "language_info": {
   "codemirror_mode": {
    "name": "ipython",
    "version": 3
   },
   "file_extension": ".py",
   "mimetype": "text/x-python",
   "name": "python",
   "nbconvert_exporter": "python",
   "pygments_lexer": "ipython3",
   "version": "3.12.2"
  }
 },
 "nbformat": 4,
 "nbformat_minor": 2
}
