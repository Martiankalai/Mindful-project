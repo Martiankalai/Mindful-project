{
 "cells": [
  {
   "cell_type": "code",
   "execution_count": 1,
   "metadata": {},
   "outputs": [
    {
     "name": "stdout",
     "output_type": "stream",
     "text": [
      "equilateral\n"
     ]
    }
   ],
   "source": [
    "def tri(nums):\n",
    "        a, b, c = sorted(nums)\n",
    "        equi=\"equilateral\"\n",
    "        scal=\"scalene\"\n",
    "        iso=\"isosceles\"\n",
    "        if a + b <= c:\n",
    "            return \"none\"\n",
    "        if nums[0]==nums[1] and nums[1]==nums[2]:\n",
    "            return equi\n",
    "        elif nums[0]==nums[1] or nums[1]==nums[2] or nums[0]==nums[2]:\n",
    "            return iso\n",
    "        else:\n",
    "            return scal\n",
    "nums=[3,3,3]\n",
    "print(tri(nums))"
   ]
  }
 ],
 "metadata": {
  "kernelspec": {
   "display_name": "Python 3",
   "language": "python",
   "name": "python3"
  },
  "language_info": {
   "codemirror_mode": {
    "name": "ipython",
    "version": 3
   },
   "file_extension": ".py",
   "mimetype": "text/x-python",
   "name": "python",
   "nbconvert_exporter": "python",
   "pygments_lexer": "ipython3",
   "version": "3.12.2"
  }
 },
 "nbformat": 4,
 "nbformat_minor": 2
}
