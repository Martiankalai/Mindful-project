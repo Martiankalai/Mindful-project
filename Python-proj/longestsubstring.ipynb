{
 "cells": [
  {
   "cell_type": "code",
   "execution_count": 2,
   "metadata": {},
   "outputs": [
    {
     "name": "stdout",
     "output_type": "stream",
     "text": [
      "{'a'}\n",
      "{'b', 'a'}\n",
      "{'b', 'a', 'c'}\n",
      "{'b', 'a', 'c'}\n",
      "{'b', 'a', 'c'}\n",
      "{'b', 'a', 'c'}\n",
      "{'b', 'c'}\n",
      "{'b'}\n",
      "3\n"
     ]
    }
   ],
   "source": [
    "def subs(s):\n",
    "        charset=set()\n",
    "        l=0\n",
    "        res=0\n",
    "        for r in range(len(s)):\n",
    "            while s[r] in charset:\n",
    "                charset.remove(s[l])\n",
    "                l+=1\n",
    "            charset.add(s[r])\n",
    "            print(charset)\n",
    "            res=max(res,r-l+1)\n",
    "        return res\n",
    "s=\"abcabcbb\"\n",
    "print(subs(s))"
   ]
  }
 ],
 "metadata": {
  "kernelspec": {
   "display_name": "Python 3",
   "language": "python",
   "name": "python3"
  },
  "language_info": {
   "codemirror_mode": {
    "name": "ipython",
    "version": 3
   },
   "file_extension": ".py",
   "mimetype": "text/x-python",
   "name": "python",
   "nbconvert_exporter": "python",
   "pygments_lexer": "ipython3",
   "version": "3.12.2"
  }
 },
 "nbformat": 4,
 "nbformat_minor": 2
}
