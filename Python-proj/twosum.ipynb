{
 "cells": [
  {
   "cell_type": "code",
   "execution_count": 2,
   "metadata": {},
   "outputs": [
    {
     "name": "stdout",
     "output_type": "stream",
     "text": [
      "{1: 0}\n",
      "{1: 0, 3: 1}\n",
      "{1: 0, 3: 1, 7: 2}\n",
      "[2, 3]\n"
     ]
    }
   ],
   "source": [
    "arr=[1,3,7,8,11]\n",
    "k=15\n",
    "def twosum(arr,k):\n",
    "    twodict={}\n",
    "    n=len(arr)\n",
    "    for i in range(n):\n",
    "        if k-arr[i] in twodict:\n",
    "            return [twodict.get(k-arr[i]),i]\n",
    "        else:\n",
    "            twodict[arr[i]]=i\n",
    "            print(twodict)\n",
    "   \n",
    "    return\n",
    "print(twosum(arr,k))\n",
    "    "
   ]
  }
 ],
 "metadata": {
  "kernelspec": {
   "display_name": "Python 3",
   "language": "python",
   "name": "python3"
  },
  "language_info": {
   "codemirror_mode": {
    "name": "ipython",
    "version": 3
   },
   "file_extension": ".py",
   "mimetype": "text/x-python",
   "name": "python",
   "nbconvert_exporter": "python",
   "pygments_lexer": "ipython3",
   "version": "3.12.2"
  }
 },
 "nbformat": 4,
 "nbformat_minor": 2
}
