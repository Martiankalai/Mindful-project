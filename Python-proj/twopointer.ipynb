{
 "cells": [
  {
   "cell_type": "code",
   "execution_count": 1,
   "metadata": {},
   "outputs": [
    {
     "name": "stdout",
     "output_type": "stream",
     "text": [
      "[0, 1, 1, 1, 2, 2]\n"
     ]
    }
   ],
   "source": [
    "def sort_array_two_pointers(arr):\n",
    "    left = 0\n",
    "    right = len(arr) - 1\n",
    "    curr = 0\n",
    "\n",
    "    while curr <= right:\n",
    "        if arr[curr] == 0:\n",
    "            arr[left], arr[curr] = arr[curr], arr[left]\n",
    "            left += 1\n",
    "            curr += 1\n",
    "        elif arr[curr] == 2:\n",
    "            arr[right], arr[curr] = arr[curr], arr[right]\n",
    "            right -= 1\n",
    "        else:\n",
    "            curr += 1\n",
    "\n",
    "    return arr\n",
    "arr = [1, 1, 2, 1, 2, 0]\n",
    "sorted_arr = sort_array_two_pointers(arr)\n",
    "print(sorted_arr)"
   ]
  }
 ],
 "metadata": {
  "kernelspec": {
   "display_name": "Python 3",
   "language": "python",
   "name": "python3"
  },
  "language_info": {
   "codemirror_mode": {
    "name": "ipython",
    "version": 3
   },
   "file_extension": ".py",
   "mimetype": "text/x-python",
   "name": "python",
   "nbconvert_exporter": "python",
   "pygments_lexer": "ipython3",
   "version": "3.12.2"
  }
 },
 "nbformat": 4,
 "nbformat_minor": 2
}
