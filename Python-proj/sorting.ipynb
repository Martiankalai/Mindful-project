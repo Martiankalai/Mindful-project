{
 "cells": [
  {
   "cell_type": "code",
   "execution_count": 1,
   "metadata": {},
   "outputs": [
    {
     "name": "stdout",
     "output_type": "stream",
     "text": [
      "Iteration 1\n",
      "[12, 12, 13, 5, 6, 7]\n",
      "[11, 12, 13, 5, 6, 7]\n",
      "Iteration 2\n",
      "[11, 12, 13, 5, 6, 7]\n",
      "Iteration 3\n",
      "[11, 12, 13, 13, 6, 7]\n",
      "[11, 12, 12, 13, 6, 7]\n",
      "[11, 11, 12, 13, 6, 7]\n",
      "[5, 11, 12, 13, 6, 7]\n",
      "Iteration 4\n",
      "[5, 11, 12, 13, 13, 7]\n",
      "[5, 11, 12, 12, 13, 7]\n",
      "[5, 11, 11, 12, 13, 7]\n",
      "[5, 6, 11, 12, 13, 7]\n",
      "Iteration 5\n",
      "[5, 6, 11, 12, 13, 13]\n",
      "[5, 6, 11, 12, 12, 13]\n",
      "[5, 6, 11, 11, 12, 13]\n",
      "[5, 6, 7, 11, 12, 13]\n",
      "[5, 6, 7, 11, 12, 13]\n"
     ]
    }
   ],
   "source": [
    "#insertion sort\n",
    "arr=[12, 11, 13, 5, 6, 7]\n",
    "def insertionsort(arr):\n",
    "    n=len(arr)\n",
    "    for i in range(1,n):\n",
    "        print(\"Iteration\",i)\n",
    "        insert_element=arr[i]\n",
    "        j=i-1\n",
    "        while(j>=0 and insert_element<arr[j]):\n",
    "            arr[j+1]=arr[j]\n",
    "            print(arr)\n",
    "            j=j-1\n",
    "        #j=-1\n",
    "        arr[j+1]=insert_element\n",
    "        print(arr)\n",
    "    return arr\n",
    "print(insertionsort(arr)) "
   ]
  },
  {
   "cell_type": "code",
   "execution_count": 2,
   "metadata": {},
   "outputs": [
    {
     "name": "stdout",
     "output_type": "stream",
     "text": [
      "Iteration 1\n",
      "[1, 4, 7, 43, 2, 56]\n",
      "Iteration 2\n",
      "[1, 4, 7, 2, 43, 56]\n",
      "Iteration 3\n",
      "[1, 4, 2, 7, 43, 56]\n",
      "Iteration 4\n",
      "[1, 2, 4, 7, 43, 56]\n",
      "Iteration 5\n",
      "[1, 2, 4, 7, 43, 56]\n",
      "[1, 2, 4, 7, 43, 56]\n"
     ]
    }
   ],
   "source": [
    "#bubble sort\n",
    "a=[7,1,4,56,43,2]\n",
    "def bubblesort(a):\n",
    "    n=len(a)\n",
    "    for i in range(n-1):\n",
    "        print(\"Iteration\",i+1)\n",
    "        swap=False\n",
    "        for j in range(n-i-1):\n",
    "            if a[j]>a[j+1]:\n",
    "                a[j],a[j+1]=a[j+1],a[j]\n",
    "                swap=True\n",
    "        print(a)\n",
    "        if swap==False:\n",
    "            return a\n",
    "    return a\n",
    "print(bubblesort(a)) "
   ]
  },
  {
   "cell_type": "code",
   "execution_count": 3,
   "metadata": {},
   "outputs": [
    {
     "name": "stdout",
     "output_type": "stream",
     "text": [
      "Iteration 0\n",
      "[1, 2, 8, 56, 43, 4]\n",
      "Iteration 1\n",
      "[1, 2, 8, 56, 43, 4]\n",
      "Iteration 2\n",
      "[1, 2, 4, 56, 43, 8]\n",
      "Iteration 3\n",
      "[1, 2, 4, 8, 43, 56]\n",
      "Iteration 4\n",
      "[1, 2, 4, 8, 43, 56]\n",
      "Iteration 5\n",
      "[1, 2, 4, 8, 43, 56]\n",
      "[1, 2, 4, 8, 43, 56]\n"
     ]
    }
   ],
   "source": [
    "#selection sort\n",
    "arr=[4,2,8,56,43,1]\n",
    "def selectionsort(arr):\n",
    "    n=len(arr)\n",
    "    for i in range(n):\n",
    "        print(\"Iteration\",i)\n",
    "        min_index=i\n",
    "        for j in range(i+1,n):\n",
    "            if arr[j]<arr[min_index]:\n",
    "                min_index=j\n",
    "        arr[i],arr[min_index]=arr[min_index],arr[i]\n",
    "        print(arr)\n",
    "    return arr\n",
    "print(selectionsort(arr))  "
   ]
  },
  {
   "cell_type": "code",
   "execution_count": 2,
   "metadata": {},
   "outputs": [],
   "source": [
    "#merge sort\n",
    "def merge_sort()\n"
   ]
  }
 ],
 "metadata": {
  "kernelspec": {
   "display_name": "Python 3",
   "language": "python",
   "name": "python3"
  },
  "language_info": {
   "codemirror_mode": {
    "name": "ipython",
    "version": 3
   },
   "file_extension": ".py",
   "mimetype": "text/x-python",
   "name": "python",
   "nbconvert_exporter": "python",
   "pygments_lexer": "ipython3",
   "version": "3.12.2"
  }
 },
 "nbformat": 4,
 "nbformat_minor": 2
}
