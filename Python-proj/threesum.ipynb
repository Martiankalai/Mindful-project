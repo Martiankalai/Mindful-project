{
 "cells": [
  {
   "cell_type": "code",
   "execution_count": 1,
   "metadata": {},
   "outputs": [
    {
     "name": "stdout",
     "output_type": "stream",
     "text": [
      "[[-1, -1, 2], [-1, 0, 1]]\n"
     ]
    }
   ],
   "source": [
    "def threeSum(nums):\n",
    "    nums.sort()  # Step 1: Sort the array\n",
    "    result = []\n",
    "\n",
    "    for i in range(len(nums) - 2):  # Step 2: Iterate through the array\n",
    "        if i > 0 and nums[i] == nums[i - 1]:  # Skip duplicate elements\n",
    "            continue\n",
    "        \n",
    "        left, right = i + 1, len(nums) - 1  # Step 3: Initialize two pointers\n",
    "        \n",
    "        while left < right:\n",
    "            total = nums[i] + nums[left] + nums[right]\n",
    "            if total == 0:  # Triplet found\n",
    "                result.append([nums[i], nums[left], nums[right]])\n",
    "                \n",
    "                # Skip duplicates for the second number\n",
    "                while left < right and nums[left] == nums[left + 1]:\n",
    "                    left += 1\n",
    "                # Skip duplicates for the third number\n",
    "                while left < right and nums[right] == nums[right - 1]:\n",
    "                    right -= 1\n",
    "                \n",
    "                left += 1\n",
    "                right -= 1\n",
    "            elif total < 0:\n",
    "                left += 1  # Increase sum by moving the left pointer to the right\n",
    "            else:\n",
    "                right -= 1  # Decrease sum by moving the right pointer to the left\n",
    "\n",
    "    return result\n",
    "\n",
    "# Example usage:\n",
    "nums = [-1, 0, 1, 2, -1, -4]  #[-4,-2,-2,0,1,2]\n",
    "print(threeSum(nums))\n"
   ]
  }
 ],
 "metadata": {
  "kernelspec": {
   "display_name": "Python 3",
   "language": "python",
   "name": "python3"
  },
  "language_info": {
   "codemirror_mode": {
    "name": "ipython",
    "version": 3
   },
   "file_extension": ".py",
   "mimetype": "text/x-python",
   "name": "python",
   "nbconvert_exporter": "python",
   "pygments_lexer": "ipython3",
   "version": "3.12.2"
  }
 },
 "nbformat": 4,
 "nbformat_minor": 2
}
