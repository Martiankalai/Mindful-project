{
 "cells": [
  {
   "cell_type": "code",
   "execution_count": 1,
   "metadata": {},
   "outputs": [
    {
     "name": "stdout",
     "output_type": "stream",
     "text": [
      "9\n"
     ]
    }
   ],
   "source": [
    "#max continuous sub array\n",
    "#sum\n",
    "arr=[-2,1,3,4,1]\n",
    "def max_sub(arr):\n",
    "    n=len(arr)\n",
    "    max_sum=-100\n",
    "    for i in range(n):\n",
    "        temp_sum=arr[i]\n",
    "        if temp_sum>max_sum:\n",
    "            max_sum=temp_sum\n",
    "        for j in range(i+1,n):\n",
    "            temp_sum+=arr[j]\n",
    "            if temp_sum>max_sum:\n",
    "                max_sum=temp_sum\n",
    "    return max_sum\n",
    "print(max_sub(arr))\n",
    "\n"
   ]
  },
  {
   "cell_type": "code",
   "execution_count": 5,
   "metadata": {},
   "outputs": [
    {
     "name": "stdout",
     "output_type": "stream",
     "text": [
      "9\n"
     ]
    }
   ],
   "source": [
    "#max continuous sub array in O(n)\n",
    "#sum\n",
    "def maxSubArray(arr):\n",
    "    sum=0\n",
    "    maxele=-1000\n",
    "    for ele in arr:\n",
    "        sum+=ele\n",
    "        if sum>maxele:\n",
    "            maxele=sum\n",
    "        if sum<0:\n",
    "            sum=0\n",
    "    return maxele\n",
    "arr=[-2,2,0,7,-9,-11]\n",
    "print(maxSubArray(arr))\n"
   ]
  },
  {
   "cell_type": "code",
   "execution_count": 10,
   "metadata": {},
   "outputs": [
    {
     "name": "stdout",
     "output_type": "stream",
     "text": [
      "8\n"
     ]
    }
   ],
   "source": [
    "nums=[1,3,2,-5,2,4]\n",
    "def maxProduct(nums):\n",
    "        n=len(nums)\n",
    "        max_prod=-1000\n",
    "        for i in range(n):\n",
    "            temp_prod=nums[i]\n",
    "            if temp_prod>max_prod:\n",
    "                max_prod=temp_prod\n",
    "            for j in range(i+1,n):\n",
    "                temp_prod*=nums[j]\n",
    "                if temp_prod>max_prod:\n",
    "                    max_prod=temp_prod\n",
    "        return max_prod\n",
    "print(maxProduct(nums))\n",
    "\n",
    "#it is not optimized O(n^2)\n",
    "\n",
    "    \n",
    "        "
   ]
  },
  {
   "cell_type": "code",
   "execution_count": null,
   "metadata": {},
   "outputs": [],
   "source": [
    "arr = [-2, 1, 3, 4, 1]\n",
    "\n",
    "def max_sub(arr):\n",
    "    n = len(arr)\n",
    "    max_sum = -100\n",
    "    start_index = 0\n",
    "    end_index = 0\n",
    "\n",
    "    for i in range(n):\n",
    "        temp_sum = arr[i]\n",
    "        if temp_sum > max_sum:\n",
    "            max_sum = temp_sum\n",
    "            start_index = i\n",
    "            end_index = i\n",
    "        for j in range(i + 1, n):\n",
    "            temp_sum += arr[j]\n",
    "            if temp_sum > max_sum:\n",
    "                max_sum = temp_sum\n",
    "                start_index = i\n",
    "                end_index = j\n",
    "\n",
    "    max_subarray = arr[start_index:end_index + 1]\n",
    "    return max_sum, max_subarray\n",
    "\n",
    "max_sum, max_subarray = max_sub(arr)\n",
    "print(\"Maximum subarray sum:\", max_sum)\n",
    "print(\"Maximum subarray:\", max_subarray)\n"
   ]
  }
 ],
 "metadata": {
  "kernelspec": {
   "display_name": "Python 3",
   "language": "python",
   "name": "python3"
  },
  "language_info": {
   "codemirror_mode": {
    "name": "ipython",
    "version": 3
   },
   "file_extension": ".py",
   "mimetype": "text/x-python",
   "name": "python",
   "nbconvert_exporter": "python",
   "pygments_lexer": "ipython3",
   "version": "3.12.2"
  }
 },
 "nbformat": 4,
 "nbformat_minor": 2
}
