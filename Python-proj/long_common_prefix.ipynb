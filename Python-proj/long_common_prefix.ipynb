{
 "cells": [
  {
   "cell_type": "code",
   "execution_count": 1,
   "metadata": {},
   "outputs": [
    {
     "name": "stdout",
     "output_type": "stream",
     "text": [
      "fl\n"
     ]
    }
   ],
   "source": [
    "#1 longest common prefix \n",
    "def prefix(strs):\n",
    "        strs.sort()\n",
    "        first=strs[0]\n",
    "        second=strs[-1]\n",
    "        i=0\n",
    "        while i < min(len(first),len(second)) and first[i]==second[i]:\n",
    "            i+=1\n",
    "        \n",
    "        return first[:i]\n",
    "strs=[\"flower\",\"flow\",\"flight\"]\n",
    "print(prefix(strs))"
   ]
  }
 ],
 "metadata": {
  "kernelspec": {
   "display_name": "Python 3",
   "language": "python",
   "name": "python3"
  },
  "language_info": {
   "codemirror_mode": {
    "name": "ipython",
    "version": 3
   },
   "file_extension": ".py",
   "mimetype": "text/x-python",
   "name": "python",
   "nbconvert_exporter": "python",
   "pygments_lexer": "ipython3",
   "version": "3.12.2"
  }
 },
 "nbformat": 4,
 "nbformat_minor": 2
}
