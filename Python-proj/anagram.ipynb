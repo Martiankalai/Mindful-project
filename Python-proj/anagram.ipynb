{
 "cells": [
  {
   "cell_type": "code",
   "execution_count": 1,
   "metadata": {},
   "outputs": [
    {
     "name": "stdout",
     "output_type": "stream",
     "text": [
      "The given string is anagram\n"
     ]
    }
   ],
   "source": [
    "str1 = \"Race\"\n",
    "str2 = \"Care\"\n",
    "str1=str1.lower()\n",
    "str2=str2.lower()\n",
    "if len(str1)==len(str2):\n",
    "    str1=sorted(str1)\n",
    "    str2=sorted(str2)\n",
    "    if str1==str2:\n",
    "        print(\"The given string is anagram\")\n",
    "    else:\n",
    "        print(\"The given string is not anagram\")\n",
    "else:\n",
    "    print(\"Given string is not a anagram\")"
   ]
  }
 ],
 "metadata": {
  "kernelspec": {
   "display_name": "Python 3",
   "language": "python",
   "name": "python3"
  },
  "language_info": {
   "codemirror_mode": {
    "name": "ipython",
    "version": 3
   },
   "file_extension": ".py",
   "mimetype": "text/x-python",
   "name": "python",
   "nbconvert_exporter": "python",
   "pygments_lexer": "ipython3",
   "version": "3.12.2"
  }
 },
 "nbformat": 4,
 "nbformat_minor": 2
}
