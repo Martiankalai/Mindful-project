{
 "cells": [
  {
   "cell_type": "code",
   "execution_count": 8,
   "metadata": {},
   "outputs": [
    {
     "name": "stdout",
     "output_type": "stream",
     "text": [
      "['p', 'a', 'r', 'z', 'w', 'l', 'c']\n"
     ]
    }
   ],
   "source": [
    "def mirror(str,N):\n",
    "   str.lower()\n",
    "   result=list(str)\n",
    "   \n",
    "   for i in range(N,len(result)):\n",
    "       char=result[i]\n",
    "       if char.isalpha():\n",
    "           mirrored_char=chr(219-ord(char))\n",
    "           result[i]=mirrored_char\n",
    "   return result\n",
    "\n",
    "str=\"paradox\"\n",
    "N=3\n",
    "print(mirror(str,N))\n",
    "   "
   ]
  }
 ],
 "metadata": {
  "kernelspec": {
   "display_name": "Python 3",
   "language": "python",
   "name": "python3"
  },
  "language_info": {
   "codemirror_mode": {
    "name": "ipython",
    "version": 3
   },
   "file_extension": ".py",
   "mimetype": "text/x-python",
   "name": "python",
   "nbconvert_exporter": "python",
   "pygments_lexer": "ipython3",
   "version": "3.12.2"
  }
 },
 "nbformat": 4,
 "nbformat_minor": 2
}
