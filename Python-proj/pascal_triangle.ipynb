{
 "cells": [
  {
   "cell_type": "code",
   "execution_count": 7,
   "metadata": {},
   "outputs": [
    {
     "name": "stdout",
     "output_type": "stream",
     "text": [
      "[[], [1, [1, [1, 1], 1], 1]]\n"
     ]
    }
   ],
   "source": [
    "#pascal triangle with recursion\n",
    "\n",
    "\n",
    "def triangle(n):\n",
    "    new_tri=[[]]\n",
    "    if n == 0:\n",
    "        return []\n",
    "    elif n == 1:\n",
    "        return [1]\n",
    "    else:\n",
    "        new_row = [1]\n",
    "        prev_row = triangle(n-1) #function call\n",
    "        for i in range(len(prev_row)-1):\n",
    "            new_row.append(prev_row[i] + prev_row[i+1])\n",
    "        new_row += [1]\n",
    "        new_tri.append(new_row)\n",
    "        return new_row,new_tri\n",
    "n=4\n",
    "print(triangle(n))\n",
    "\n",
    "\n",
    "#pascal triangle\n",
    "#    1\n",
    "#   1 1\n",
    "#  1 2 1\n",
    "# 1 3 3 1\n",
    "#1 4 6 4 1"
   ]
  },
  {
   "cell_type": "code",
   "execution_count": 10,
   "metadata": {},
   "outputs": [
    {
     "name": "stdout",
     "output_type": "stream",
     "text": [
      "[1]\n",
      "[1, 1]\n",
      "[1, 2, 1]\n",
      "[1, 3, 3, 1]\n",
      "       1       \n",
      "      1 1      \n",
      "     1 2 1     \n",
      "    1 3 3 1    \n",
      "   1 4 6 4 1   \n"
     ]
    }
   ],
   "source": [
    "#pascal triangle without recursion\n",
    "\n",
    "def generate_pascal_triangle(num_rows):\n",
    "    if num_rows <= 0:\n",
    "        return []\n",
    "\n",
    "    triangle = [[1]]\n",
    "\n",
    "    for i in range(1, num_rows):\n",
    "        prev_row = triangle[-1]  \n",
    "        print(prev_row)\n",
    "        new_row = [1]  \n",
    "\n",
    "        # Calculate the values for the new row based on the previous row\n",
    "        for j in range(1, i):\n",
    "            new_row.append(prev_row[j - 1] + prev_row[j])\n",
    "\n",
    "        new_row.append(1)  \n",
    "        triangle.append(new_row)  \n",
    "\n",
    "    return triangle\n",
    "\n",
    "def print_pascal_triangle(triangle):\n",
    "    for row in triangle:\n",
    "        print(' '.join(map(str, row)).center(len(triangle) * 3))\n",
    "\n",
    "\n",
    "num_rows = 5\n",
    "pascal_triangle = generate_pascal_triangle(num_rows)\n",
    "print_pascal_triangle(pascal_triangle)\n"
   ]
  }
 ],
 "metadata": {
  "kernelspec": {
   "display_name": "Python 3",
   "language": "python",
   "name": "python3"
  },
  "language_info": {
   "codemirror_mode": {
    "name": "ipython",
    "version": 3
   },
   "file_extension": ".py",
   "mimetype": "text/x-python",
   "name": "python",
   "nbconvert_exporter": "python",
   "pygments_lexer": "ipython3",
   "version": "3.12.2"
  }
 },
 "nbformat": 4,
 "nbformat_minor": 2
}
