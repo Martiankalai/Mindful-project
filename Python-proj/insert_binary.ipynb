{
 "cells": [
  {
   "cell_type": "code",
   "execution_count": 18,
   "metadata": {},
   "outputs": [
    {
     "name": "stdout",
     "output_type": "stream",
     "text": [
      "[1, 2, 4, 7, 10, 11, 34]\n"
     ]
    }
   ],
   "source": [
    "arr=[1,2,4,7,10,34]\n",
    "left=0\n",
    "right=len(arr)-1\n",
    "val=11\n",
    "def search(arr,left,right,val):\n",
    "    if len(arr)==0:\n",
    "        arr.append(val)\n",
    "        return arr\n",
    "    while(left<=right):\n",
    "        mid=left+(right-left)//2\n",
    "        if arr[mid] ==val:\n",
    "            arr.insert(mid,val)\n",
    "            return arr\n",
    "        elif arr[mid]>val:\n",
    "            right=mid-1\n",
    "        else:\n",
    "            left=mid+1\n",
    "    arr.insert(left,val)\n",
    "    return arr\n",
    "print(search(arr,left,right,val))        \n",
    "\n",
    "        \n",
    "    "
   ]
  }
 ],
 "metadata": {
  "kernelspec": {
   "display_name": "Python 3",
   "language": "python",
   "name": "python3"
  },
  "language_info": {
   "codemirror_mode": {
    "name": "ipython",
    "version": 3
   },
   "file_extension": ".py",
   "mimetype": "text/x-python",
   "name": "python",
   "nbconvert_exporter": "python",
   "pygments_lexer": "ipython3",
   "version": "3.12.2"
  }
 },
 "nbformat": 4,
 "nbformat_minor": 2
}
