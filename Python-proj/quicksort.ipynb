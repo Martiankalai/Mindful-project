{
 "cells": [
  {
   "cell_type": "code",
   "execution_count": 1,
   "metadata": {},
   "outputs": [
    {
     "name": "stdout",
     "output_type": "stream",
     "text": [
      "6 pivot\n",
      "it is lower\n",
      "[4]\n",
      "it is lower\n",
      "[4, 2]\n",
      "it is lower\n",
      "[4, 2, 5]\n",
      "it is lower\n",
      "[4, 2, 5, 3]\n",
      "it is lower\n",
      "[4, 2, 5, 3, 1]\n",
      "1 pivot\n",
      "higher\n",
      "[4]\n",
      "higher\n",
      "[4, 2]\n",
      "higher\n",
      "[4, 2, 5]\n",
      "higher\n",
      "[4, 2, 5, 3]\n",
      "3 pivot\n",
      "higher\n",
      "[4]\n",
      "it is lower\n",
      "[2]\n",
      "higher\n",
      "[4, 5]\n",
      "5 pivot\n",
      "it is lower\n",
      "[4]\n"
     ]
    },
    {
     "data": {
      "text/plain": [
       "[1, 2, 3, 4, 5, 6]"
      ]
     },
     "execution_count": 1,
     "metadata": {},
     "output_type": "execute_result"
    }
   ],
   "source": [
    "def quciksort(array):\n",
    "    n = len(array)\n",
    "    if n <= 1:\n",
    "        return array\n",
    "    else:\n",
    "        pivot = array.pop()\n",
    "        print(pivot,\"pivot\")\n",
    "\n",
    "    lower =[]\n",
    "    higher =[]\n",
    "\n",
    "    for item in array:\n",
    "        if item < pivot:\n",
    "            lower.append(item)\n",
    "            print(\"it is lower\")\n",
    "            print(lower)\n",
    "        else:\n",
    "            higher.append(item)\n",
    "            print(\"higher\")\n",
    "            print(higher)\n",
    "\n",
    "    return quciksort(lower) + [pivot] + quciksort(higher)\n",
    "\n",
    "\n",
    "array = [4,2,5,3,1,6]\n",
    "quciksort(array)"
   ]
  },
  {
   "cell_type": "code",
   "execution_count": 5,
   "metadata": {},
   "outputs": [
    {
     "name": "stdout",
     "output_type": "stream",
     "text": [
      "[3, 1, 2, 4, 7, 5] 3 0 5\n",
      "[1, 2, 3, 4, 7, 5] 1 0 2\n",
      "[1, 2, 3, 4, 5, 7] 4 4 5\n",
      "[1, 2, 3, 4, 5, 7]\n"
     ]
    },
    {
     "ename": "",
     "evalue": "",
     "output_type": "error",
     "traceback": [
      "\u001b[1;31mThe Kernel crashed while executing code in the current cell or a previous cell. \n",
      "\u001b[1;31mPlease review the code in the cell(s) to identify a possible cause of the failure. \n",
      "\u001b[1;31mClick <a href='https://aka.ms/vscodeJupyterKernelCrash'>here</a> for more info. \n",
      "\u001b[1;31mView Jupyter <a href='command:jupyter.viewOutput'>log</a> for further details."
     ]
    }
   ],
   "source": [
    "def quick_sort(array,low,high):\n",
    "    pivot = array[high]\n",
    "    i = low -1\n",
    "    for j in range(low,high):\n",
    "        if array[j] <= pivot:\n",
    "            i = i + 1\n",
    "            array[i],array[j] =array[j],array[i]\n",
    "    \n",
    "    array[i+1],array[high] = array[high],array[i+1]\n",
    "    return i+1\n",
    "    \n",
    "    \n",
    "\n",
    "def quicksort1(array,low,high):\n",
    "    if low < high:\n",
    "        pi = quick_sort(array, low, high)\n",
    "        print(arr_,pi,low,high)\n",
    "        quicksort1(array,low,pi-1)\n",
    "        quicksort1(array,pi+1,high)\n",
    "        return array\n",
    "        \n",
    "arr_ = [3,1,5,2,7,4]\n",
    "print(quicksort1(arr_,0,len(arr_)-1))\n",
    "\n"
   ]
  }
 ],
 "metadata": {
  "kernelspec": {
   "display_name": "Python 3",
   "language": "python",
   "name": "python3"
  },
  "language_info": {
   "codemirror_mode": {
    "name": "ipython",
    "version": 3
   },
   "file_extension": ".py",
   "mimetype": "text/x-python",
   "name": "python",
   "nbconvert_exporter": "python",
   "pygments_lexer": "ipython3",
   "version": "3.12.2"
  }
 },
 "nbformat": 4,
 "nbformat_minor": 2
}
