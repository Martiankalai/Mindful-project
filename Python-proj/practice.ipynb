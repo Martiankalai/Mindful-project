{
 "cells": [
  {
   "cell_type": "code",
   "execution_count": 3,
   "metadata": {},
   "outputs": [
    {
     "name": "stdout",
     "output_type": "stream",
     "text": [
      "0 1 1 2 3 5 8 13 21 34 "
     ]
    }
   ],
   "source": [
    "def fibonacci(num):\n",
    "    if num<=1:\n",
    "        return num\n",
    "    else:\n",
    "        return fibonacci(num-1)+fibonacci(num-2)\n",
    "num=5\n",
    "nterms=10\n",
    "if nterms<0:\n",
    "    print(\"Enter positive number\")\n",
    "else:\n",
    "    for i in range(nterms):\n",
    "        print(fibonacci(i),end=\" \")\n",
    "        "
   ]
  },
  {
   "cell_type": "code",
   "execution_count": 4,
   "metadata": {},
   "outputs": [
    {
     "name": "stdout",
     "output_type": "stream",
     "text": [
      "[1, 4, 3, 2, 6]\n"
     ]
    }
   ],
   "source": [
    "def swap(list,a,b):\n",
    "    list[a],list[b]=list[b],list[a]\n",
    "    return list\n",
    "list=[1,3,4,2,6]\n",
    "a=1\n",
    "b=2\n",
    "print(swap(list,a,b))"
   ]
  },
  {
   "cell_type": "code",
   "execution_count": 5,
   "metadata": {},
   "outputs": [
    {
     "name": "stdout",
     "output_type": "stream",
     "text": [
      "[5, 35, 2, 3, 4]\n"
     ]
    }
   ],
   "source": [
    "#interchange first and last element in a list\n",
    "list2=[4,35,2,3,5]\n",
    "def interchange(list2):\n",
    "    list2[0],list2[-1]=list2[-1],list2[0]\n",
    "    return list2\n",
    "print(interchange(list2))\n",
    "    "
   ]
  },
  {
   "cell_type": "code",
   "execution_count": 2,
   "metadata": {},
   "outputs": [
    {
     "name": "stdout",
     "output_type": "stream",
     "text": [
      "     * \n",
      "    * * \n",
      "   * * * \n",
      "  * * * * \n",
      " * * * * * \n",
      "* * * * * * \n"
     ]
    }
   ],
   "source": [
    "#To print pyramid\n",
    "row=6\n",
    "for i in range(1,row+1):\n",
    "    print(\" \"*(row-i) + \"* \"*i)\n"
   ]
  },
  {
   "cell_type": "code",
   "execution_count": 14,
   "metadata": {},
   "outputs": [
    {
     "name": "stdout",
     "output_type": "stream",
     "text": [
      "    * \n",
      "   * * \n",
      "  * * * \n",
      " * * * * \n",
      "* * * * * \n",
      " * * * * \n",
      "  * * * \n",
      "   * * \n",
      "    * \n"
     ]
    }
   ],
   "source": [
    "row=5\n",
    "for i in range(1,row+1):\n",
    "    print(\" \"*(row-i) + \"* \"*i)\n",
    "for i in range(row-1,0,-1):\n",
    "    print(\" \"*(row-i) + \"* \"*i)\n"
   ]
  },
  {
   "cell_type": "code",
   "execution_count": 18,
   "metadata": {},
   "outputs": [
    {
     "name": "stdout",
     "output_type": "stream",
     "text": [
      "[1, 3, 3, 1]\n"
     ]
    }
   ],
   "source": [
    "#pascal triangle with recursion\n",
    "\n",
    "\n",
    "def triangle(n):\n",
    "    if n == 0:\n",
    "        return []\n",
    "    elif n == 1:\n",
    "        return [1]\n",
    "    else:\n",
    "        new_row = [1]\n",
    "        prev_row = triangle(n-1) #function call\n",
    "        for i in range(len(prev_row)-1):\n",
    "            new_row.append(prev_row[i] + prev_row[i+1])\n",
    "        new_row += [1]\n",
    "        return new_row\n",
    "n=4\n",
    "print(triangle(n))\n",
    "\n",
    "\n",
    "#pascal triangle\n",
    "#    1\n",
    "#   1 1\n",
    "#  1 2 1\n",
    "# 1 3 3 1\n",
    "#1 4 6 4 1\n"
   ]
  },
  {
   "cell_type": "code",
   "execution_count": 10,
   "metadata": {},
   "outputs": [
    {
     "name": "stdout",
     "output_type": "stream",
     "text": [
      "       1       \n",
      "      1 1      \n",
      "     1 2 1     \n",
      "    1 3 3 1    \n",
      "   1 4 6 4 1   \n"
     ]
    }
   ],
   "source": [
    "#pascal triangle without recursion\n",
    "\n",
    "def generate_pascal_triangle(num_rows):\n",
    "    if num_rows <= 0:\n",
    "        return []\n",
    "\n",
    "    triangle = [[1]]\n",
    "\n",
    "    for i in range(1, num_rows):\n",
    "        prev_row = triangle[-1]  \n",
    "        new_row = [1]  \n",
    "\n",
    "        # Calculate the values for the new row based on the previous row\n",
    "        for j in range(1, i):\n",
    "            new_row.append(prev_row[j - 1] + prev_row[j])\n",
    "\n",
    "        new_row.append(1)  \n",
    "        triangle.append(new_row)  \n",
    "\n",
    "    return triangle\n",
    "\n",
    "def print_pascal_triangle(triangle):\n",
    "    for row in triangle:\n",
    "        print(' '.join(map(str, row)).center(len(triangle) * 3))\n",
    "\n",
    "\n",
    "num_rows = 5\n",
    "pascal_triangle = generate_pascal_triangle(num_rows)\n",
    "print_pascal_triangle(pascal_triangle)\n"
   ]
  },
  {
   "cell_type": "code",
   "execution_count": 12,
   "metadata": {},
   "outputs": [
    {
     "name": "stdout",
     "output_type": "stream",
     "text": [
      "3 4\n",
      "2 4\n",
      "1 2\n",
      "0 2\n",
      "[6, 23, 1, 45, 5]\n",
      "[6, 23, 5, 45, 1]\n",
      "2 3\n",
      "1 2\n",
      "0 2\n",
      "[6, 23, 5, 45, 1]\n",
      "[6, 23, 45, 5, 1]\n",
      "1 2\n",
      "0 1\n",
      "[6, 23, 45, 5, 1]\n",
      "[45, 23, 6, 5, 1]\n",
      "0 1\n",
      "[45, 23, 6, 5, 1]\n",
      "[45, 23, 6, 5, 1]\n",
      "[45, 23, 6, 5, 1]\n",
      "[45, 23, 6, 5, 1]\n",
      "The sorted array is: [45, 23, 6, 5, 1]\n"
     ]
    }
   ],
   "source": [
    "#selectionsort in desc order without changing the if condition\n",
    "def selectionsort(arr):\n",
    "    n=len(arr)\n",
    "    for i in range(n-1,-1,-1):\n",
    "        min_index=i\n",
    "        for j in range(i-1,-1,-1):\n",
    "            print(j,min_index)\n",
    "            if arr[j]<arr[min_index]:\n",
    "                min_index=j\n",
    "        #print(\"Iteration\",i+1) \n",
    "        print(arr)       \n",
    "        arr[i],arr[min_index]=arr[min_index],arr[i]\n",
    "        print(arr)\n",
    "    return arr\n",
    "arr=[6,23,1,45,5]\n",
    "print(\"The sorted array is:\",selectionsort(arr))\n"
   ]
  }
 ],
 "metadata": {
  "kernelspec": {
   "display_name": "Python 3",
   "language": "python",
   "name": "python3"
  },
  "language_info": {
   "codemirror_mode": {
    "name": "ipython",
    "version": 3
   },
   "file_extension": ".py",
   "mimetype": "text/x-python",
   "name": "python",
   "nbconvert_exporter": "python",
   "pygments_lexer": "ipython3",
   "version": "3.12.2"
  }
 },
 "nbformat": 4,
 "nbformat_minor": 2
}
