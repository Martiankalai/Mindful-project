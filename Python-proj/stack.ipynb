{
 "cells": [
  {
   "cell_type": "code",
   "execution_count": 3,
   "metadata": {},
   "outputs": [
    {
     "name": "stdout",
     "output_type": "stream",
     "text": [
      "7  6  5  \n",
      "6  5  \n"
     ]
    }
   ],
   "source": [
    "class Node:\n",
    "    def __init__(self, value=None):\n",
    "        self.value = value\n",
    "        self.next = None\n",
    "class stack:\n",
    "    def __init__(self):\n",
    "        self.top=None\n",
    "        \n",
    "    def isempty(self):\n",
    "        return self.top==None\n",
    "        \n",
    "    def push(self,value):\n",
    "        new_node=Node(value)\n",
    "        if self.isempty():\n",
    "            self.top=new_node\n",
    "        else:\n",
    "            new_node.next=self.top\n",
    "            self.top=new_node\n",
    "    def pop(self):\n",
    "        if self.isempty():\n",
    "            return None\n",
    "        else:\n",
    "            self.top=self.top.next\n",
    "    def display(self):\n",
    "        current = self.top\n",
    "        while current:\n",
    "            print(current.value, end=\"  \")\n",
    "            current = current.next\n",
    "        print()\n",
    "        \n",
    "stac=stack()\n",
    "stac.push(5)   \n",
    "stac.push(6)       \n",
    "stac.push(7)         \n",
    "stac.display()\n",
    "stac.pop()\n",
    "stac.display()\n",
    "\n",
    "        "
   ]
  }
 ],
 "metadata": {
  "kernelspec": {
   "display_name": "Python 3",
   "language": "python",
   "name": "python3"
  },
  "language_info": {
   "codemirror_mode": {
    "name": "ipython",
    "version": 3
   },
   "file_extension": ".py",
   "mimetype": "text/x-python",
   "name": "python",
   "nbconvert_exporter": "python",
   "pygments_lexer": "ipython3",
   "version": "3.12.2"
  }
 },
 "nbformat": 4,
 "nbformat_minor": 2
}
