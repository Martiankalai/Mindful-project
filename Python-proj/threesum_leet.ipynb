{
 "cells": [
  {
   "cell_type": "code",
   "execution_count": 1,
   "metadata": {},
   "outputs": [
    {
     "name": "stdout",
     "output_type": "stream",
     "text": [
      "[[-1, -1, 2], [-1, 0, 1]]\n"
     ]
    }
   ],
   "source": [
    "\n",
    "def threeSum(nums):\n",
    "        res=[]\n",
    "        nums.sort()\n",
    "        for i,a in enumerate(nums):  # i-index a-value\n",
    "            if i>0 and a==nums[i-1]:\n",
    "                continue #to skip the same number checking twice [to remove duplicate]\n",
    "            l,r=i+1,len(nums)-1\n",
    "            while l<r:\n",
    "                threesum=a+nums[l]+nums[r] \n",
    "                if threesum <0:\n",
    "                    l+=1\n",
    "                elif threesum>0:\n",
    "                    r-=1\n",
    "                else:\n",
    "                    res.append([a,nums[l],nums[r]])\n",
    "                    l+=1\n",
    "                    while(nums[l]==nums[l-1] and l<r):  #to remove duplicate results\n",
    "                        l+=1\n",
    "        return res\n",
    "\n",
    "nums=[-1,0,1,2,-1,-4]\n",
    "print(threeSum(nums))\n",
    "\n",
    "        "
   ]
  }
 ],
 "metadata": {
  "kernelspec": {
   "display_name": "Python 3",
   "language": "python",
   "name": "python3"
  },
  "language_info": {
   "codemirror_mode": {
    "name": "ipython",
    "version": 3
   },
   "file_extension": ".py",
   "mimetype": "text/x-python",
   "name": "python",
   "nbconvert_exporter": "python",
   "pygments_lexer": "ipython3",
   "version": "3.12.2"
  }
 },
 "nbformat": 4,
 "nbformat_minor": 2
}
