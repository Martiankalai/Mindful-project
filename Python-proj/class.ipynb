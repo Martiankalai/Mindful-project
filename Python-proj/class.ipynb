{
 "cells": [
  {
   "cell_type": "code",
   "execution_count": 1,
   "metadata": {},
   "outputs": [
    {
     "name": "stdout",
     "output_type": "stream",
     "text": [
      "kalai\n",
      "500\n",
      "25000\n"
     ]
    }
   ],
   "source": [
    "class Book:\n",
    "    def __init__(self,title,author,baseprice):\n",
    "        self.title=title\n",
    "        self.author=author\n",
    "        self.baseprice=baseprice\n",
    "    #methods are function inside a class\n",
    "    def totalcost(self,quantity):\n",
    "        return self.baseprice*quantity\n",
    "book1=Book(\"Pirate\",\"kalai\",500)# book1 is object or instance\n",
    "print(book1.author)#book1-object , author-attribute\n",
    "print(book1.baseprice)\n",
    "print(book1.totalcost(50))#book1-object , totalcost-method\n",
    "\n",
    "   "
   ]
  },
  {
   "cell_type": "code",
   "execution_count": 19,
   "metadata": {},
   "outputs": [
    {
     "name": "stdout",
     "output_type": "stream",
     "text": [
      "5 -> 6 -> 7 -> None\n",
      "5 -> 6 -> 7 -> None\n"
     ]
    }
   ],
   "source": [
    "class Nodes:\n",
    "    def __init__(self,value):\n",
    "        self.value=value\n",
    "        self.next=None\n",
    "        \n",
    "class Linkedlist:\n",
    "    \n",
    "    def __init__(self):\n",
    "        self.head = None\n",
    "    \n",
    "    def insert_at_end(self, value):\n",
    "        new_node = Nodes(value)\n",
    "        if not self.head:\n",
    "            self.head = new_node\n",
    "            return\n",
    "        \n",
    "        last_node = self.head\n",
    "        while last_node.next:\n",
    "            last_node = last_node.next\n",
    "        \n",
    "        last_node.next = new_node\n",
    "        \n",
    "    def search_element(self,value):\n",
    "        pos=0\n",
    "        temp=self.head\n",
    "        while(temp!=None):\n",
    "            if value==temp.value:\n",
    "                return pos\n",
    "            pos+=1\n",
    "            temp=temp.next\n",
    "        return -1\n",
    "    def deletion(self,value):\n",
    "        temp=self.head\n",
    "        prev=self.head\n",
    "        while(temp!=None):\n",
    "            if temp.value==value:\n",
    "                prev.next=temp.next\n",
    "                return\n",
    "            prev=temp\n",
    "            temp=temp.next\n",
    "            \n",
    "    def display(self):\n",
    "        current = self.head\n",
    "        while current:\n",
    "            print(current.value, end=\" -> \")\n",
    "            current = current.next\n",
    "        print(\"None\")\n",
    "            \n",
    "Linked_list=Linkedlist()\n",
    "Linked_list.insert_at_end(5)\n",
    "Linked_list.insert_at_end(6)\n",
    "Linked_list.insert_at_end(7)\n",
    "Linked_list.display()\n",
    "Linked_list.deletion(5)\n",
    "Linked_list.display()"
   ]
  }
 ],
 "metadata": {
  "kernelspec": {
   "display_name": "Python 3",
   "language": "python",
   "name": "python3"
  },
  "language_info": {
   "codemirror_mode": {
    "name": "ipython",
    "version": 3
   },
   "file_extension": ".py",
   "mimetype": "text/x-python",
   "name": "python",
   "nbconvert_exporter": "python",
   "pygments_lexer": "ipython3",
   "version": "3.12.2"
  }
 },
 "nbformat": 4,
 "nbformat_minor": 2
}
