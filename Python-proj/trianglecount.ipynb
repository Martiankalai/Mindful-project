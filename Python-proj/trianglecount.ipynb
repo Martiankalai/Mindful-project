{
 "cells": [
  {
   "cell_type": "code",
   "execution_count": 10,
   "metadata": {},
   "outputs": [
    {
     "name": "stdout",
     "output_type": "stream",
     "text": [
      "10\n"
     ]
    }
   ],
   "source": [
    "\n",
    "#Function to count the number of possible triangles.\n",
    "def findNumberOfTriangles(arr,n):\n",
    "        arr.sort()\n",
    "        count=0\n",
    "        for i in range(n-1,-1,-1):\n",
    "            left=0\n",
    "            right=i-1\n",
    "            while(left<right):\n",
    "                if arr[left]+arr[right]>arr[i]:\n",
    "                    count+=right-left\n",
    "                    right-=1\n",
    "                else:\n",
    "                    left+=1\n",
    "        return count\n",
    "arr=[6, 4, 9, 7, 8]\n",
    "n=5\n",
    "print(findNumberOfTriangles(arr,n))\n"
   ]
  }
 ],
 "metadata": {
  "kernelspec": {
   "display_name": "Python 3",
   "language": "python",
   "name": "python3"
  },
  "language_info": {
   "codemirror_mode": {
    "name": "ipython",
    "version": 3
   },
   "file_extension": ".py",
   "mimetype": "text/x-python",
   "name": "python",
   "nbconvert_exporter": "python",
   "pygments_lexer": "ipython3",
   "version": "3.12.2"
  }
 },
 "nbformat": 4,
 "nbformat_minor": 2
}
