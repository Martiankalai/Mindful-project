{
 "cells": [
  {
   "cell_type": "code",
   "execution_count": 4,
   "metadata": {},
   "outputs": [
    {
     "name": "stdout",
     "output_type": "stream",
     "text": [
      "24\n",
      "[24, 12, 8, 6]\n"
     ]
    }
   ],
   "source": [
    "#product of the array except self\n",
    "def productExceptSelf(nums):\n",
    "        prod=1\n",
    "        final=[]\n",
    "        for ele in nums:\n",
    "            prod=prod*ele\n",
    "        print(prod)\n",
    "        for elem in nums:\n",
    "            new=prod//elem\n",
    "            final.append(new)\n",
    "        return final\n",
    "nums=[1,2,3,4]\n",
    "print(productExceptSelf(nums))"
   ]
  }
 ],
 "metadata": {
  "kernelspec": {
   "display_name": "Python 3",
   "language": "python",
   "name": "python3"
  },
  "language_info": {
   "codemirror_mode": {
    "name": "ipython",
    "version": 3
   },
   "file_extension": ".py",
   "mimetype": "text/x-python",
   "name": "python",
   "nbconvert_exporter": "python",
   "pygments_lexer": "ipython3",
   "version": "3.12.2"
  }
 },
 "nbformat": 4,
 "nbformat_minor": 2
}
