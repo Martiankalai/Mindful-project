{
 "cells": [
  {
   "cell_type": "code",
   "execution_count": 2,
   "metadata": {},
   "outputs": [
    {
     "name": "stdout",
     "output_type": "stream",
     "text": [
      "[65, 23, 5, 2, 2, 1]\n"
     ]
    }
   ],
   "source": [
    "#merge sort in descending\n",
    "def merge_sort(arr):\n",
    "    if len(arr)<=1:\n",
    "        return arr\n",
    "    list1=arr[0:len(arr)//2]\n",
    "    list2=arr[len(arr)//2:]\n",
    "    ans1=merge_sort(list1)\n",
    "    ans2=merge_sort(list2)\n",
    "    sort_list=sort_merge_list(ans1,ans2)\n",
    "    return sort_list\n",
    "def sort_merge_list(list1,list2):\n",
    "    final_list=[]\n",
    "    i=0\n",
    "    j=0\n",
    "    while i<len(list1) and j<len(list2):\n",
    "        if list1[i]>list2[j]:\n",
    "            final_list.append(list1[i])\n",
    "            i+=1\n",
    "        else:\n",
    "            final_list.append(list2[j])\n",
    "            j+=1\n",
    "    while i<len(list1):\n",
    "        final_list.append(list1[i])\n",
    "        i+=1\n",
    "    while j<len(list2):\n",
    "        final_list.append(list2[j])\n",
    "        j+=1\n",
    "    return final_list\n",
    "arr=[2,5,2,65,23,1]\n",
    "print(merge_sort(arr))\n",
    "        \n",
    "    "
   ]
  }
 ],
 "metadata": {
  "kernelspec": {
   "display_name": "Python 3",
   "language": "python",
   "name": "python3"
  },
  "language_info": {
   "codemirror_mode": {
    "name": "ipython",
    "version": 3
   },
   "file_extension": ".py",
   "mimetype": "text/x-python",
   "name": "python",
   "nbconvert_exporter": "python",
   "pygments_lexer": "ipython3",
   "version": "3.12.2"
  }
 },
 "nbformat": 4,
 "nbformat_minor": 2
}
