{
 "cells": [
  {
   "cell_type": "code",
   "execution_count": 6,
   "metadata": {},
   "outputs": [
    {
     "name": "stdout",
     "output_type": "stream",
     "text": [
      "[7, 5, 3, 1, 2, 4, 10]\n"
     ]
    }
   ],
   "source": [
    "def odd_even(arr,n):\n",
    "        odd=[]\n",
    "        even=[]\n",
    "        for i in range(n):\n",
    "            if arr[i]%2==0:\n",
    "                even.append(arr[i])\n",
    "            else:\n",
    "                odd.append(arr[i])\n",
    "        odd.sort()\n",
    "        odd=odd[::-1]\n",
    "        even.sort()\n",
    "        odd.extend(even)\n",
    "        return odd\n",
    "arr=[1,2,3,5,4,7,10]\n",
    "n=7\n",
    "print(odd_even(arr,n))\n",
    "                "
   ]
  },
  {
   "cell_type": "code",
   "execution_count": 46,
   "metadata": {},
   "outputs": [
    {
     "name": "stdout",
     "output_type": "stream",
     "text": [
      "    **\n",
      "   ****\n",
      "  ******\n",
      " ********\n",
      "**********\n",
      " ********\n",
      "  ******\n",
      "   ****\n",
      "    **\n",
      "     \n",
      "*\n",
      "**\n",
      "***\n",
      "****\n",
      "*****\n",
      "******\n",
      "*****\n",
      "****\n",
      "***\n",
      "**\n",
      "*\n"
     ]
    }
   ],
   "source": [
    "num=5\n",
    "\n",
    "for i in range(num-1,-1,-1):\n",
    "    print(\" \"*i + \"*\"*(2*(num-i)))\n",
    "for i in range(num-1,-1,-1):\n",
    "    print(\" \"*(num-i) + \"*\"*(2*i))\n",
    "\n",
    "\n",
    "for i in range(num):\n",
    "    for j in range(i+1):\n",
    "        print(\"*\",end=\"\")\n",
    "    print()\n",
    "    \n",
    "\n",
    "for i in range(num,-1,-1):\n",
    "    for j in range(i+1):\n",
    "        print(\"*\",end=\"\")\n",
    "    print()\n"
   ]
  },
  {
   "cell_type": "code",
   "execution_count": null,
   "metadata": {},
   "outputs": [],
   "source": [
    "num=5\n",
    "for i in range():"
   ]
  }
 ],
 "metadata": {
  "kernelspec": {
   "display_name": "Python 3",
   "language": "python",
   "name": "python3"
  },
  "language_info": {
   "codemirror_mode": {
    "name": "ipython",
    "version": 3
   },
   "file_extension": ".py",
   "mimetype": "text/x-python",
   "name": "python",
   "nbconvert_exporter": "python",
   "pygments_lexer": "ipython3",
   "version": "3.12.2"
  }
 },
 "nbformat": 4,
 "nbformat_minor": 2
}
