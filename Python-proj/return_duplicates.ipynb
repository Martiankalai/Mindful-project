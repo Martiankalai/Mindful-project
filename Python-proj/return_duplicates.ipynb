{
 "cells": [
  {
   "cell_type": "code",
   "execution_count": 2,
   "metadata": {},
   "outputs": [
    {
     "name": "stdout",
     "output_type": "stream",
     "text": [
      "[1, 2]\n"
     ]
    }
   ],
   "source": [
    "arr=[12,1,3,4,2,1,2]\n",
    "def duplicate(arr):\n",
    "    seen=set()\n",
    "    dupl=set()\n",
    "    for ele in arr:\n",
    "        if ele in seen:\n",
    "            dupl.add(ele)\n",
    "        else:\n",
    "            seen.add(ele)\n",
    "    if dupl:\n",
    "        return sorted(list(dupl))\n",
    "    else:\n",
    "        return -1\n",
    "print(duplicate(arr))"
   ]
  }
 ],
 "metadata": {
  "kernelspec": {
   "display_name": "Python 3",
   "language": "python",
   "name": "python3"
  },
  "language_info": {
   "codemirror_mode": {
    "name": "ipython",
    "version": 3
   },
   "file_extension": ".py",
   "mimetype": "text/x-python",
   "name": "python",
   "nbconvert_exporter": "python",
   "pygments_lexer": "ipython3",
   "version": "3.12.2"
  }
 },
 "nbformat": 4,
 "nbformat_minor": 2
}
