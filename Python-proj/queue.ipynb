{
 "cells": [
  {
   "cell_type": "code",
   "execution_count": 3,
   "metadata": {},
   "outputs": [
    {
     "name": "stdout",
     "output_type": "stream",
     "text": [
      "1  2  3  \n",
      "2  3  \n"
     ]
    }
   ],
   "source": [
    "class Node:\n",
    "    def __init__(self, value=None):\n",
    "        self.value = value\n",
    "        self.next = None\n",
    "\n",
    "class queue:\n",
    "    def __init__(self):\n",
    "        self.front=None\n",
    "        self.back=None\n",
    "        \n",
    "    def isempty(self):\n",
    "        return self.front==None\n",
    "    def enqueue(self,value):\n",
    "        new_node=Node(value)\n",
    "        if self.isempty():\n",
    "            self.front=self.back=new_node\n",
    "        else:\n",
    "            self.back.next=new_node\n",
    "            self.back=new_node\n",
    "    def dequeue(self):\n",
    "        if self.isempty():\n",
    "            return None\n",
    "        self.front=self.front.next\n",
    "        \n",
    "    def display(self):\n",
    "        current = self.front\n",
    "        while current:\n",
    "            print(current.value, end=\"  \")\n",
    "            current = current.next\n",
    "        print()\n",
    "        \n",
    "que=queue()\n",
    "que.enqueue(1)\n",
    "que.enqueue(2)\n",
    "que.enqueue(3)\n",
    "que.display()\n",
    "que.dequeue()\n",
    "que.display()\n",
    "\n",
    "    \n",
    "        \n",
    "        "
   ]
  }
 ],
 "metadata": {
  "kernelspec": {
   "display_name": "Python 3",
   "language": "python",
   "name": "python3"
  },
  "language_info": {
   "codemirror_mode": {
    "name": "ipython",
    "version": 3
   },
   "file_extension": ".py",
   "mimetype": "text/x-python",
   "name": "python",
   "nbconvert_exporter": "python",
   "pygments_lexer": "ipython3",
   "version": "3.12.2"
  }
 },
 "nbformat": 4,
 "nbformat_minor": 2
}
